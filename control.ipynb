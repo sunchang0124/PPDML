{
 "cells": [
  {
   "cell_type": "markdown",
   "metadata": {},
   "source": [
    "# PHT cohort counter"
   ]
  },
  {
   "cell_type": "code",
   "execution_count": 52,
   "metadata": {},
   "outputs": [],
   "source": [
    "import requests\n",
    "import json\n",
    "import uuid\n",
    "signalStation = \"http://vwdata.personalhealthtrain.net\"\n",
    "\n",
    "def getStations(signalStation):\n",
    "    response = requests.get(signalStation + \"/client\")\n",
    "    return json.loads(response.text)\n",
    "\n",
    "def defineTrain(image, inputVars, runId):\n",
    "    return {\n",
    "        \"image\": image,\n",
    "        \"inputString\": (\"%s\" % json.dumps(inputVars)),\n",
    "        \"runId\": runId\n",
    "    }\n",
    "\n",
    "def requestExecution(signalStation, clientId, taskDescription):\n",
    "    response = requests.post(signalStation + \"/client/\" + str(clientId) + \"/task/add\", json=taskDescription)\n",
    "    taskId = json.loads(response.text)[\"taskId\"]\n",
    "    return taskId"
   ]
  },
  {
   "cell_type": "markdown",
   "metadata": {},
   "source": [
    "## List Stations"
   ]
  },
  {
   "cell_type": "code",
   "execution_count": 49,
   "metadata": {},
   "outputs": [
    {
     "data": {
      "text/plain": [
       "[{'id': 1,\n",
       "  'name': 'The Maastricht Study',\n",
       "  'email': 'johan.vansoest@maastro.nl',\n",
       "  'institute': 'Maastricht University',\n",
       "  'country': 'The Netherlands',\n",
       "  'ip': '192.168.96.1',\n",
       "  'last_seen': '2019-02-21 11:49:23.147569'},\n",
       " {'id': 2,\n",
       "  'name': 'VWData Station Maastro',\n",
       "  'email': 'johan.vansoest@maastro.nl',\n",
       "  'institute': 'MAASTRO Clinic',\n",
       "  'country': 'Netherlands',\n",
       "  'ip': '192.168.96.1',\n",
       "  'last_seen': '2019-02-21 08:47:10.060424'}]"
      ]
     },
     "execution_count": 49,
     "metadata": {},
     "output_type": "execute_result"
    }
   ],
   "source": [
    "getStations(signalStation)"
   ]
  },
  {
   "cell_type": "markdown",
   "metadata": {},
   "source": [
    "## Define train"
   ]
  },
  {
   "cell_type": "code",
   "execution_count": 50,
   "metadata": {},
   "outputs": [],
   "source": [
    "inputData = {\n",
    "    \"stage\": 1\n",
    "}"
   ]
  },
  {
   "cell_type": "code",
   "execution_count": 53,
   "metadata": {},
   "outputs": [
    {
     "name": "stdout",
     "output_type": "stream",
     "text": [
      "{'image': 'fairhealth/ppdml', 'inputString': '{\"stage\": 1}', 'runId': 1}\n"
     ]
    }
   ],
   "source": [
    "taskMetaData = defineTrain(\"fairhealth/ppdml\", inputData, 1)\n",
    "print(taskMetaData)"
   ]
  },
  {
   "cell_type": "markdown",
   "metadata": {},
   "source": [
    "## Run cohort counter on RDF station"
   ]
  },
  {
   "cell_type": "code",
   "execution_count": 60,
   "metadata": {},
   "outputs": [
    {
     "name": "stdout",
     "output_type": "stream",
     "text": [
      "Task submitted with ID: 14\n"
     ]
    }
   ],
   "source": [
    "clientId = 1\n",
    "taskId = requestExecution(signalStation, clientId, taskMetaData)\n",
    "print(\"Task submitted with ID: %s\" % taskId)"
   ]
  },
  {
   "cell_type": "markdown",
   "metadata": {},
   "source": [
    "### Receive cohort counter result from station"
   ]
  },
  {
   "cell_type": "code",
   "execution_count": 37,
   "metadata": {},
   "outputs": [
    {
     "name": "stdout",
     "output_type": "stream",
     "text": [
      "\r\n",
      "Traceback (most recent call last):\n",
      "  File \"run.py\", line 19, in <module>\n",
      "    currentStage = inputArgs[\"stage\"]\n",
      "TypeError: string indices must be integers\n",
      "\r\n",
      "=======================INTERNAL FILE LOG===================== \r\n",
      "\n"
     ]
    }
   ],
   "source": [
    "response = requests.get(signalStation + \"/client/\" + str(clientId) + \"/task/\" + str(taskId) + \"/result\")\n",
    "print(json.loads(response.text)[0][\"log\"])\n",
    "#json.loads(json.loads(response.text)[0][\"response\"])"
   ]
  },
  {
   "cell_type": "markdown",
   "metadata": {},
   "source": [
    "## Run cohort counter on FHIR station"
   ]
  },
  {
   "cell_type": "code",
   "execution_count": null,
   "metadata": {},
   "outputs": [],
   "source": [
    "clientId = 1\n",
    "\n",
    "# Post train on signal station\n",
    "response = requests.post(signalStation + \"/client/\" + str(clientId) + \"/task/add\", json=taskMetaData)\n",
    "taskId = json.loads(response.text)[\"taskId\"]\n",
    "\n",
    "print(\"Task submitted with ID: %s\" % taskId)"
   ]
  },
  {
   "cell_type": "markdown",
   "metadata": {},
   "source": [
    "### Receive cohort counter result from station"
   ]
  },
  {
   "cell_type": "code",
   "execution_count": null,
   "metadata": {},
   "outputs": [],
   "source": [
    "response = requests.get(signalStation + \"/client/\" + str(clientId) + \"/task/\" + str(taskId) + \"/result\")\n",
    "json.loads(json.loads(response.text)[0][\"response\"])"
   ]
  },
  {
   "cell_type": "code",
   "execution_count": null,
   "metadata": {},
   "outputs": [],
   "source": []
  }
 ],
 "metadata": {
  "kernelspec": {
   "display_name": "Python 3",
   "language": "python",
   "name": "python3"
  },
  "language_info": {
   "codemirror_mode": {
    "name": "ipython",
    "version": 3
   },
   "file_extension": ".py",
   "mimetype": "text/x-python",
   "name": "python",
   "nbconvert_exporter": "python",
   "pygments_lexer": "ipython3",
   "version": "3.7.2"
  }
 },
 "nbformat": 4,
 "nbformat_minor": 2
}
