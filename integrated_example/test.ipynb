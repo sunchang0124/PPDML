{
 "cells": [
  {
   "cell_type": "code",
   "execution_count": 1,
   "metadata": {},
   "outputs": [
    {
     "name": "stderr",
     "output_type": "stream",
     "text": [
      "/Users/changsun/anaconda3/lib/python3.6/site-packages/requests/__init__.py:80: RequestsDependencyWarning: urllib3 (1.22) or chardet (2.3.0) doesn't match a supported version!\n",
      "  RequestsDependencyWarning)\n"
     ]
    }
   ],
   "source": [
    "import myFunctions as mf\n",
    "import pandas as pd\n",
    "import numpy as np"
   ]
  },
  {
   "cell_type": "code",
   "execution_count": 2,
   "metadata": {},
   "outputs": [],
   "source": [
    "myDataA = pd.read_csv(\"https://raw.githubusercontent.com/sunchang0124/PPDML/master/Privacy-preserving%20bayesians/preprocessed_dataFile_A.csv\")\n",
    "myDataA = myDataA.drop('Unnamed: 0', axis=1)"
   ]
  },
  {
   "cell_type": "code",
   "execution_count": 3,
   "metadata": {},
   "outputs": [],
   "source": [
    "# We assume target class is at B site and always the last column in B data\n",
    "myDataB = pd.read_csv(\"https://raw.githubusercontent.com/sunchang0124/PPDML/master/Privacy-preserving%20bayesians/preprocessed_dataFile_B.csv\")\n",
    "colB = myDataB.columns\n",
    "Y = myDataB['diag_3']\n",
    "myDataB = myDataB[colB[0:6]].drop(['Unnamed: 0'], axis=1) # we only use first 5 columns here because the values    \n"
   ]
  },
  {
   "cell_type": "code",
   "execution_count": 4,
   "metadata": {},
   "outputs": [],
   "source": [
    "X_centralized = np.concatenate((myDataA, myDataB.drop('diag_3', axis=1)), axis=1)"
   ]
  },
  {
   "cell_type": "code",
   "execution_count": 5,
   "metadata": {},
   "outputs": [],
   "source": [
    "Divide_set = 10\n",
    "C_seed = 2\n",
    "C_min = 0\n",
    "C_max = 5"
   ]
  },
  {
   "cell_type": "code",
   "execution_count": 6,
   "metadata": {},
   "outputs": [],
   "source": [
    "resultStageOne = mf.start_at_A(myDataA, Divide_set, C_seed, C_min, C_max)"
   ]
  },
  {
   "cell_type": "code",
   "execution_count": 7,
   "metadata": {},
   "outputs": [],
   "source": [
    "resultStageTwo = mf.start_at_B(myDataB, C_seed, C_min, C_max, resultStageOne[\"sumNoiseBytes\"], Divide_set)"
   ]
  },
  {
   "cell_type": "code",
   "execution_count": 8,
   "metadata": {},
   "outputs": [],
   "source": [
    "resultStageThree = mf.communication_at_A(myDataA, resultStageOne['randomBytes'], resultStageTwo['sumNoisesAB'], \\\n",
    "                                         resultStageTwo['sumNoisesB'], Divide_set)"
   ]
  },
  {
   "cell_type": "code",
   "execution_count": 9,
   "metadata": {},
   "outputs": [
    {
     "name": "stdout",
     "output_type": "stream",
     "text": [
      "Coefficients: \n",
      " [[  5.51451255]\n",
      " [-12.43600734]\n",
      " [-13.60236922]\n",
      " [ -0.11782703]\n",
      " [  1.8613011 ]\n",
      " [  0.3361196 ]\n",
      " [ -0.24537211]\n",
      " [  1.5963641 ]\n",
      " [ -0.91016081]\n",
      " [  0.03021797]\n",
      " [ 20.91553868]\n",
      " [ -4.20045788]\n",
      " [ -0.04897685]\n",
      " [  0.04809015]]\n",
      "Intercept:  364.3401128950095\n"
     ]
    }
   ],
   "source": [
    "myResult = mf.Final_at_B(myDataB, resultStageThree[\"randomsSumSet\"], resultStageThree[\"sumNoisesBARand\"], \\\n",
    "                         resultStageThree[\"XaTXa\"], resultStageTwo['randomBytes'], Divide_set)\n"
   ]
  },
  {
   "cell_type": "code",
   "execution_count": 11,
   "metadata": {},
   "outputs": [
    {
     "name": "stdout",
     "output_type": "stream",
     "text": [
      "Coefficients: \n",
      " [  5.51451255 -12.43600734 -13.60236922  -0.11782703   1.8613011\n",
      "   0.3361196   -0.24537211   1.5963641   -0.91016081   0.03021797\n",
      "  20.91553868  -4.20045788  -0.04897685   0.04809015]\n",
      "Intercept: \n",
      " 364.340112895\n"
     ]
    }
   ],
   "source": [
    "##### checking with centralized datasets by using scikit learn #####\n",
    "from sklearn import linear_model\n",
    "regr = linear_model.LinearRegression(fit_intercept=True, normalize=True)\n",
    "regr.fit(X_centralized, Y)\n",
    "\n",
    "# The coefficients\n",
    "print('Coefficients: \\n', regr.coef_)\n",
    "print('Intercept: \\n', regr.intercept_)"
   ]
  },
  {
   "cell_type": "code",
   "execution_count": null,
   "metadata": {},
   "outputs": [],
   "source": []
  }
 ],
 "metadata": {
  "kernelspec": {
   "display_name": "Python 3",
   "language": "python",
   "name": "python3"
  },
  "language_info": {
   "codemirror_mode": {
    "name": "ipython",
    "version": 3
   },
   "file_extension": ".py",
   "mimetype": "text/x-python",
   "name": "python",
   "nbconvert_exporter": "python",
   "pygments_lexer": "ipython3",
   "version": "3.6.8"
  }
 },
 "nbformat": 4,
 "nbformat_minor": 2
}
