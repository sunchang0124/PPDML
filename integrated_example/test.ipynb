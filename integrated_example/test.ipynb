{
 "cells": [
  {
   "cell_type": "code",
   "execution_count": null,
   "metadata": {},
   "outputs": [],
   "source": [
    "import myFunctions as mf\n",
    "import pandas as pd\n",
    "import numpy as np\n",
    "import json"
   ]
  },
  {
   "cell_type": "code",
   "execution_count": null,
   "metadata": {},
   "outputs": [],
   "source": [
    "myDataA = pd.read_csv(\"https://raw.githubusercontent.com/sunchang0124/PPDML/master/Privacy-preserving%20bayesians/preprocessed_dataFile_A.csv\")\n",
    "myDataA = myDataA.drop('Unnamed: 0', axis=1)"
   ]
  },
  {
   "cell_type": "code",
   "execution_count": null,
   "metadata": {},
   "outputs": [],
   "source": [
    "# We assume target class is at B site and always the last column in B data\n",
    "myDataB = pd.read_csv(\"https://raw.githubusercontent.com/sunchang0124/PPDML/master/Privacy-preserving%20bayesians/preprocessed_dataFile_B.csv\")\n",
    "colB = myDataB.columns\n",
    "Y = myDataB['diag_3']\n",
    "myDataB = myDataB[colB[0:6]].drop(['Unnamed: 0'], axis=1) # we only use first 5 columns here because the values    \n"
   ]
  },
  {
   "cell_type": "code",
   "execution_count": null,
   "metadata": {},
   "outputs": [],
   "source": [
    "Divide_set = 10\n",
    "C_seed = 2\n",
    "C_min = 0\n",
    "C_max = 5"
   ]
  },
  {
   "cell_type": "code",
   "execution_count": null,
   "metadata": {},
   "outputs": [],
   "source": [
    "resultStageOne = mf.start_at_A(myDataA, Divide_set, C_seed, C_min, C_max)"
   ]
  },
  {
   "cell_type": "code",
   "execution_count": null,
   "metadata": {},
   "outputs": [],
   "source": [
    "resultStageTwo = mf.start_at_B(myDataB, C_seed, C_min, C_max, resultStageOne[\"sumNoiseBytes\"], Divide_set)"
   ]
  },
  {
   "cell_type": "code",
   "execution_count": null,
   "metadata": {},
   "outputs": [],
   "source": [
    "resultStageThree = mf.communication_at_A(myDataA, resultStageOne['randomBytes'], resultStageTwo['sumNoisesAB'], \\\n",
    "                                         resultStageTwo['sumNoisesB'], Divide_set)"
   ]
  },
  {
   "cell_type": "code",
   "execution_count": null,
   "metadata": {},
   "outputs": [],
   "source": [
    "myResult = mf.Final_at_B(myDataB, resultStageThree[\"randomsSumSet\"], resultStageThree[\"sumNoisesBARand\"], \\\n",
    "                         resultStageThree[\"XaTXa\"], resultStageTwo['randomBytes'], Divide_set)\n"
   ]
  },
  {
   "cell_type": "code",
   "execution_count": null,
   "metadata": {},
   "outputs": [],
   "source": [
    "##### checking with centralized datasets by using scikit learn #####\n",
    "\n",
    "X_centralized = np.concatenate((myDataA, myDataB.drop('diag_3', axis=1)), axis=1)\n",
    "from sklearn import linear_model\n",
    "regr = linear_model.LinearRegression(fit_intercept=True, normalize=True)\n",
    "regr.fit(X_centralized, Y)\n",
    "\n",
    "# The coefficients\n",
    "print('Coefficients: \\n', regr.coef_)\n",
    "print('Intercept: \\n', regr.intercept_)"
   ]
  },
  {
   "cell_type": "code",
   "execution_count": null,
   "metadata": {},
   "outputs": [],
   "source": [
    "for i in range(0, len(myResult[\"coefficients\"])):\n",
    "    print(str(np.matrix(regr.coef_[i+1])) == str(myResult[\"coefficients\"][i]))"
   ]
  }
 ],
 "metadata": {
  "kernelspec": {
   "display_name": "Python 3",
   "language": "python",
   "name": "python3"
  },
  "language_info": {
   "codemirror_mode": {
    "name": "ipython",
    "version": 3
   },
   "file_extension": ".py",
   "mimetype": "text/x-python",
   "name": "python",
   "nbconvert_exporter": "python",
   "pygments_lexer": "ipython3",
   "version": "3.7.0"
  }
 },
 "nbformat": 4,
 "nbformat_minor": 2
}
