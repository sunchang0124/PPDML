{
 "cells": [
  {
   "cell_type": "markdown",
   "metadata": {},
   "source": [
    "### Pre-processing your data to preserve the privacy ###"
   ]
  },
  {
   "cell_type": "markdown",
   "metadata": {},
   "source": [
    "In privacy-preserving machine learning and data minging in a distributed data scenario, we are facing a very challenging problem that the existing solutions are not very feasible and scalable to apply in real-world datasets. \n",
    "The most popular method -secure multiparty computation- takes very high costs of time, communication, and computations. To solve this problem, I suggest we can classify privacy level of features before doing analysis might decrease the cost. Considering the privacy level, features are categoried to:\n",
    "1. Identifiable features\n",
    "2. (Quasi-)identifiable features (instances can be re-identified by combining with other features)\n",
    "3. Sensitive features (depends on domain. e.g. Health data)\n",
    "4. Others "
   ]
  },
  {
   "cell_type": "markdown",
   "metadata": {},
   "source": [
    "At the same time, do a pre-selection on features can eliminate the risk of breaching personal privacy. For instance, removing outliers is one way to protect 'outstanding' instances in the dataset which can avoid instances being recognized. If the features are sensitive which needs anonymization, this code also provides K-means to do the generalization. Users are free to set how general the values they want. Additionally, this jupyter notebook automate the data pre-process procedure and applied ipywidget which supports a very user-friendly interface. Users can easily do the data pre-processing, detect and remove outliers, and anonymize the features. It it very easy to follow and use in practice."
   ]
  },
  {
   "cell_type": "markdown",
   "metadata": {},
   "source": [
    "In this code, following methods/steps are presented:\n",
    "* Step 0: Input your data. Missing values will be checked automatically. If missing values in the dataset are represented by certain characters (e.g. '?', 'missing','Nan',etc), you can indicate it when you upload the data. \n",
    "* Step 1: Deal with your missing values. You can choose to remove the column if it contains too many missing values. Or, fill the missing values with certain numbers, characters, etc. \n",
    "* Step 2: Detect outliers to avoid 'outstanding' instances being re-identified. Local Outlier Factor (LOF) method is used to detect outliears (you can choose to remove the outliers or not based on the detection results). You can customize he percentage of outliers and the number of neighbors according to your dataset. The advantage of LOF is that not only global outliers can be detected, but local outliers are also sensitive to LOF.\n",
    "* Step 3: Detect (Quasi-)identifiable features. This code provides two methods to detect (quasi-)identifiable features: 1) Check the diversity of the feature which means how many different values this feature contains; 2) Using decision tree or randon forest to detect which features can be used to easily identify people (based on its possibilities)\n",
    "* Step 4: Anonymize identifiable/sensitve features. Generalization as one method to anonymize values is implemented by using K-means. You can select which features you want to anonymize according to your data, domain, and questions you want to answer by the data. You can customize how 'general' the values will be for this sensitive feature. Additionally, before anonymization, you can choose to normalize your data by using standard, min-max, or robust scaler. In the end, your pre-processed data will be saved in your local computer."
   ]
  },
  {
   "cell_type": "markdown",
   "metadata": {},
   "source": [
    "Unfortunately, Github does not suppert Ipywidget display. I just put one screenshot of the widgets:"
   ]
  },
  {
   "cell_type": "code",
   "execution_count": 1,
   "metadata": {},
   "outputs": [
    {
     "data": {
      "text/html": [
       "<img src=\"ipywidget.png\" width=\"500\" height=\"500\"/>"
      ],
      "text/plain": [
       "<IPython.core.display.Image object>"
      ]
     },
     "execution_count": 1,
     "metadata": {},
     "output_type": "execute_result"
    }
   ],
   "source": [
    "from IPython.display import Image\n",
    "Image(url= \"ipywidget.png\", width=500, height=500)"
   ]
  },
  {
   "cell_type": "code",
   "execution_count": 2,
   "metadata": {},
   "outputs": [],
   "source": [
    "import numpy as np\n",
    "import seaborn as sns\n",
    "import pandas as pd\n",
    "import matplotlib.pyplot as plt\n",
    "from collections import Counter\n",
    "from sklearn import linear_model\n",
    "from numpy.linalg import inv\n",
    "from sklearn.preprocessing import LabelEncoder\n",
    "from sklearn.neighbors import LocalOutlierFactor\n",
    "from sklearn.tree import DecisionTreeRegressor\n",
    "from sklearn.ensemble import RandomForestRegressor, ExtraTreesRegressor\n",
    "from sklearn.cluster import KMeans, MiniBatchKMeans\n",
    "from sklearn.preprocessing import MinMaxScaler, StandardScaler, RobustScaler\n",
    "from sklearn.metrics.pairwise import euclidean_distances\n",
    "\n",
    "import ipywidgets as widgets\n",
    "from traitlets import traitlets\n",
    "from IPython.display import display\n",
    "from ipywidgets import Layout, Button, Box, interact, interactive, fixed, interact_manual, Checkbox, FloatSlider"
   ]
  },
  {
   "cell_type": "code",
   "execution_count": 3,
   "metadata": {},
   "outputs": [],
   "source": [
    "### Adopt the ipywidget button function to get the outcome of previous button function\n",
    "class LoadedButton(widgets.Button):\n",
    "    \"\"\"A button that can holds a value as a attribute.\"\"\"\n",
    "\n",
    "    def __init__(self, value=None, *args, **kwargs):\n",
    "        super(LoadedButton, self).__init__(*args, **kwargs)\n",
    "        # Create the value attribute.\n",
    "        self.add_traits(value=traitlets.Any(value))"
   ]
  },
  {
   "cell_type": "markdown",
   "metadata": {},
   "source": [
    "## Input data ##"
   ]
  },
  {
   "cell_type": "code",
   "execution_count": 4,
   "metadata": {},
   "outputs": [],
   "source": [
    "### Set ipywidget layout and style ### \n",
    "style = {'description_width': 'initial'}\n",
    "uniLayout = Layout(width='50%', height='30px')\n",
    "\n",
    "##### ##### #####\n",
    "init_file = 'diabetic_data.csv'\n",
    "pathiwg = widgets.Text(value=init_file, description='Data File Path: ', style=style,layout=uniLayout)\n",
    "\n",
    "##### ##### #####\n",
    "mis_charac = widgets.Text(value='?', description='Any special characters to present missing values: ', style=style,layout=uniLayout)\n",
    "\n",
    "##### ##### #####\n",
    "check_mis = widgets.Checkbox(value=False, description='Check the missing values', disabled=False,\\\n",
    "                             style=style, layout=uniLayout)\n",
    "\n",
    "##### ##### #####\n",
    "button1 = LoadedButton(description=\"Input data\", button_style='success', value=None)\n",
    "#widgets.Button(description=\"Input data\", button_style='success')\n"
   ]
  },
  {
   "cell_type": "code",
   "execution_count": 5,
   "metadata": {},
   "outputs": [],
   "source": [
    "### check if there is any missing value in the dataset ###\n",
    "def check_missing(df, col):\n",
    "    missing  = 0\n",
    "    CheckNull = df.isnull().sum()\n",
    "    for var in range(0, len(CheckNull)):\n",
    "        if CheckNull[var] != 0:\n",
    "            print(col[var], '\\t', CheckNull[var])\n",
    "            missing = missing + 1\n",
    "\n",
    "    if missing == 0:\n",
    "        print('Dataset is complete with no blanks.')\n",
    "    else:\n",
    "        print('Totally, %d features have missing values (blanks).' %missing)"
   ]
  },
  {
   "cell_type": "code",
   "execution_count": 6,
   "metadata": {},
   "outputs": [],
   "source": [
    "### Input data function ###\n",
    "def input_data(event):\n",
    "    \n",
    "    file_path = pathiwg.value\n",
    "    df_ori =  pd.DataFrame.from_csv(file_path, index_col=None)\n",
    "    col = df_ori.columns\n",
    "    \n",
    "    if event != 'silent':\n",
    "        print('***** Step 0 *****')\n",
    "        print('Input data successfully!')\n",
    "\n",
    "        ##### Replace customized missing valve #####\n",
    "        mis_value_code = mis_charac.value\n",
    "        if len(mis_value_code) > 0 :\n",
    "            df_ori = df_ori.replace({mis_value_code : np.nan})\n",
    "\n",
    "        ##### Check missing values #####\n",
    "        if check_mis.value == True: \n",
    "            check_missing(df_ori, col)\n",
    "    print('****** Done ****** \\n')\n",
    "    event.value = df_ori"
   ]
  },
  {
   "cell_type": "code",
   "execution_count": 7,
   "metadata": {},
   "outputs": [
    {
     "data": {
      "application/vnd.jupyter.widget-view+json": {
       "model_id": "7a919f9a1be24954adbd80c5d9ff1b0b",
       "version_major": 2,
       "version_minor": 0
      },
      "text/plain": [
       "Accordion(children=(Box(children=(Text(value='diabetic_data.csv', description='Data File Path: ', layout=Layou…"
      ]
     },
     "metadata": {},
     "output_type": "display_data"
    },
    {
     "name": "stdout",
     "output_type": "stream",
     "text": [
      "***** Step 0 *****\n",
      "Input data successfully!\n",
      "race \t 2273\n",
      "weight \t 98569\n",
      "payer_code \t 40256\n",
      "medical_specialty \t 49949\n",
      "diag_1 \t 21\n",
      "diag_2 \t 358\n",
      "diag_3 \t 1423\n",
      "Totally, 7 features have missing values (blanks).\n",
      "****** Done ****** \n",
      "\n"
     ]
    }
   ],
   "source": [
    "group0 = [pathiwg, mis_charac, check_mis, button1]\n",
    "\n",
    "box_layout = Layout(display='center',\n",
    "                    flex_flow='column',\n",
    "                    align_items='stretch',\n",
    "                    align_content='flex-start',\n",
    "                    width='80%')\n",
    "box0 = widgets.Box(children=group0, layout=box_layout)\n",
    "accordion = widgets.Accordion(children=[box0], style=style)\n",
    "accordion.set_title(0, 'Step 0 Input data')\n",
    "button1.on_click(input_data)\n",
    "accordion"
   ]
  },
  {
   "cell_type": "markdown",
   "metadata": {},
   "source": [
    "## Detect local outlier which can be easily re-identify ##"
   ]
  },
  {
   "cell_type": "code",
   "execution_count": 8,
   "metadata": {},
   "outputs": [],
   "source": [
    "### Set ipywidget layout and style ### \n",
    "\n",
    "##### ##### #####\n",
    "df_ori = button1.value\n",
    "col = df_ori.columns\n",
    "col_forRemove = col.tolist()\n",
    "col_forRemove.insert(0, 'No columns to remove')\n",
    "remove_col = widgets.SelectMultiple(\n",
    "                                options=col_forRemove,\n",
    "                                value=[col_forRemove[0]],\n",
    "                                description='Remove certain columns: ',\n",
    "                                disabled=False,\n",
    "                                style=style,\n",
    "                                layout=Layout(width='50%', height='150px')\n",
    "                                )\n",
    "\n",
    "##### ##### ####\n",
    "fill_missing = widgets.Text(value='?', description='Fill missing value with certain character/num: ', \\\n",
    "                            style=style,layout=uniLayout)\n",
    "\n",
    "##### ##### #####\n",
    "button2 = LoadedButton(description=\"Process\", button_style='success', value = button1.value)\n",
    "\n",
    "##### ##### #####\n",
    "id_feature = widgets.SelectMultiple(\n",
    "                                options=col,\n",
    "                                value=[col[0]],\n",
    "                                description='Select ID/data index column: ',\n",
    "                                disabled=False,\n",
    "                                style=style,\n",
    "                                layout=Layout(width='50%', height='150px')\n",
    "                                )\n",
    "\n",
    "##### ##### #####\n",
    "ngb_wgt = widgets.BoundedIntText(value=50,min=1,step=1,description='Neighbors:',\\\n",
    "                                 disabled=False, style=style, layout=uniLayout)\n",
    "\n",
    "##### ##### #####\n",
    "perc_wgt = widgets.BoundedFloatText(value=0.05,min=0, max=1,step=1,description='Outliers percent:',\\\n",
    "                                    disabled=False, style=style, layout=uniLayout)\n",
    "\n",
    "##### ##### #####\n",
    "checkbox_remove = widgets.Checkbox(value=False, description='Remove detected outliers', disabled=False,\\\n",
    "                             style=style, layout=uniLayout)"
   ]
  },
  {
   "cell_type": "code",
   "execution_count": 9,
   "metadata": {},
   "outputs": [],
   "source": [
    "##### Replace string data #####\n",
    "def encode_string(df_ori):\n",
    "    le = LabelEncoder()\n",
    "\n",
    "    obj = 0\n",
    "    colList = df_ori.columns\n",
    "    for i in range(0, len(colList)):\n",
    "        if df_ori.dtypes.values[i] == 'object':\n",
    "            obj = obj + 1\n",
    "            le.fit(df_ori[colList[i]].drop_duplicates()) \n",
    "            df_ori[colList[i]] = le.transform(df_ori[colList[i]])\n",
    "    return df_ori\n",
    "\n",
    "##### Outlier detection #####\n",
    "def detectOUT (df, IDs, neighbours, percent):\n",
    "    X = df.drop(IDs, axis=1)\n",
    "    clf = LocalOutlierFactor(n_neighbors=neighbours, contamination=percent, leaf_size=1)\n",
    "    y_pred = clf.fit_predict(X)\n",
    "    X_scores = clf.negative_outlier_factor_\n",
    "    return y_pred, X_scores\n",
    "\n",
    "##### Remove outliers #####\n",
    "def remove_outliers(df_ori, y_pred):\n",
    "    df_ori['outlier'] = pd.Series(y_pred)\n",
    "    df_inliers = df_ori[df_ori['outlier']==1]\n",
    "    df_inliers = df_inliers.drop('outlier', axis=1)\n",
    "\n",
    "    return df_inliers\n",
    "\n",
    "##### Remove empty or un-diverse features #####\n",
    "def removeCol(df, reCol):\n",
    "    new_df = df.drop(reCol, axis=1)\n",
    "    return new_df\n",
    "# Replace blank with new character\n",
    "def replaceBlank(df, new):\n",
    "    new_df = df.fillna(new)\n",
    "    return new_df"
   ]
  },
  {
   "cell_type": "code",
   "execution_count": 10,
   "metadata": {},
   "outputs": [],
   "source": [
    "def pre_process(event2):\n",
    "    print(\"Step 2 Processing... \")\n",
    "    df_ori = event2.value\n",
    "    \n",
    "    ##### Remove certain columns\n",
    "    reCol = []\n",
    "    for i in remove_col.value:\n",
    "        if i != 'No columns to remove':\n",
    "            reCol.append(i)\n",
    "    if len(reCol) > 0:\n",
    "        df_ori = removeCol(df_ori, reCol)\n",
    "\n",
    "    ##### Fill missing values\n",
    "    if len(fill_missing.value) > 0:\n",
    "        df_ori = replaceBlank(df_ori, fill_missing.value)\n",
    "    \n",
    "    ##### String to numbers\n",
    "    df_ori = encode_string(df_ori)\n",
    "        \n",
    "    ##### Outlier detection #####\n",
    "    if perc_wgt.value > 0:\n",
    "        y_pred, X_scores = detectOUT (df_ori, list(id_feature.value), ngb_wgt.value, perc_wgt.value)\n",
    "        print('Number of outliers', Counter(y_pred).get(-1))\n",
    "        print('Number of inliers', Counter(y_pred).get(1))\n",
    "    \n",
    "    ##### Remove outliers #####\n",
    "    if checkbox_remove.value == True:\n",
    "        df_inliers = remove_outliers(df_ori, y_pred)\n",
    "        print('Outliers removed successfully!')\n",
    "        event2.value = df_inliers\n",
    "    else:\n",
    "        event2.value = df_ori"
   ]
  },
  {
   "cell_type": "code",
   "execution_count": 11,
   "metadata": {},
   "outputs": [
    {
     "data": {
      "application/vnd.jupyter.widget-view+json": {
       "model_id": "c9f60b6532c949b590ecdd22aa764807",
       "version_major": 2,
       "version_minor": 0
      },
      "text/plain": [
       "Accordion(children=(Box(children=(Text(value='?', description='Fill missing value with certain character/num: …"
      ]
     },
     "metadata": {},
     "output_type": "display_data"
    }
   ],
   "source": [
    "group1 = [fill_missing, remove_col]\n",
    "group2 = [id_feature, ngb_wgt, perc_wgt, checkbox_remove, button2]\n",
    "\n",
    "box1 = widgets.Box(children=group1, layout=box_layout)\n",
    "box2 = widgets.Box(children=group2, layout=box_layout)\n",
    "\n",
    "accordion1 = widgets.Accordion(children=[box1, box2], style=style)\n",
    "accordion1.set_title(0, 'Step 1 Pre-process')\n",
    "accordion1.set_title(1, 'Step 2 Detect potential outliers')\n",
    "\n",
    "button2.on_click(pre_process)\n",
    "accordion1"
   ]
  },
  {
   "cell_type": "markdown",
   "metadata": {},
   "source": [
    "## Detect (Potential) identifiable features ##"
   ]
  },
  {
   "cell_type": "code",
   "execution_count": 12,
   "metadata": {},
   "outputs": [],
   "source": [
    "##### Check diversity of features #####\n",
    "id_detect_wgt = widgets.RadioButtons(options=['Diversity Checking', \\\n",
    "                                               'Decision Tree', 'Random Forest'],\n",
    "                                        value='Diversity Checking',\n",
    "                                        description='Detect potential (quasi-)identifiable features:',\n",
    "                                        disabled=False,\n",
    "                                        style=style,\n",
    "                                        layout=Layout(width='80%', height='60px')\n",
    "                                        )\n",
    "\n",
    "##### Check diversity of features #####\n",
    "id_options = list(id_feature.value)\n",
    "id_col_wgt = widgets.RadioButtons(options=id_options,\n",
    "                                    value=id_options[0],\n",
    "                                    description='Select your ID column:',\n",
    "                                    disabled=False,\n",
    "                                    style=style,\n",
    "                                    layout=Layout(width='80%', height='60px')\n",
    "                                    )\n",
    "\n",
    "##### ##### #####\n",
    "rank_wgt = widgets.BoundedIntText(value=len(button2.value.columns),min=1,max=len(button2.value.columns),\\\n",
    "                                  step=1,description='Number of features to show:', disabled=False, style=style, layout=uniLayout)\n",
    "\n",
    "##### ##### #####\n",
    "button3 = LoadedButton(description=\"Process\", button_style='success', value = button2.value)"
   ]
  },
  {
   "cell_type": "code",
   "execution_count": 13,
   "metadata": {},
   "outputs": [],
   "source": [
    "def id_feature_detect(event3):\n",
    "    print(\"Step 3 Processing... \")\n",
    "\n",
    "    df_inliers = event3.value\n",
    "    limitNum = rank_wgt.value\n",
    "    \n",
    "    if id_detect_wgt.index == 0:\n",
    "        ##### Check diversity of features #####\n",
    "        diver = []\n",
    "#         diver2 = []\n",
    "        for c in df_inliers.columns:\n",
    "            diver.append(len(Counter(df_inliers[c]).keys()))\n",
    "#             diver2.append(len(Counter(df_ori[c]).keys()))\n",
    "\n",
    "        diver_df = pd.DataFrame.from_records([df_inliers.columns, diver]).transpose()\n",
    "        diver_df.columns = ['Features', 'Inliers']\n",
    "        print(diver_df.sort_values(by=['Inliers'], ascending=False)[0:limitNum])\n",
    "    else:\n",
    "        tree_detection(id_detect_wgt.index, limitNum, df_inliers, id_col_wgt.value)\n",
    "        "
   ]
  },
  {
   "cell_type": "code",
   "execution_count": 14,
   "metadata": {
    "scrolled": false
   },
   "outputs": [],
   "source": [
    "##### Feature Selection/ranking #####\n",
    "def tree_detection(index, limitNum, df_inliers, id_column):\n",
    "    # Build a forest and compute the feature importances\n",
    "    if index == 1:\n",
    "        regressor = DecisionTreeRegressor(min_impurity_decrease=0)\n",
    "    elif index == 2:\n",
    "        regressor = RandomForestRegressor(n_estimators=200,\n",
    "                                              random_state=0, \n",
    "                                            min_samples_split=2, \n",
    "                                            min_samples_leaf=1, \n",
    "                                            min_impurity_decrease=0)\n",
    "\n",
    "    y = df_inliers[id_column]\n",
    "    X = df_inliers.drop(id_column, axis=1)\n",
    "    X_col = X.columns\n",
    "    regressor.fit(X, y)\n",
    "    importances = regressor.feature_importances_\n",
    "\n",
    "    \n",
    "    indices = np.argsort(importances)[::-1]\n",
    "\n",
    "    # Print the feature ranking\n",
    "    print(\"Feature ranking:\")\n",
    "\n",
    "    for f in range(0, limitNum): #X.shape[1]\n",
    "        print(\"%d. feature %s (%f)\" % (f + 1, X_col[indices[f]], importances[indices[f]]))\n",
    "        \n",
    "    if index == 2:\n",
    "        std = np.std([tree.feature_importances_ for tree in regressor.estimators_], axis=0)\n",
    "        # Plot the feature importances of the forest\n",
    "        plt.figure(figsize=(12,9))\n",
    "        plt.title(\"Feature importances\")\n",
    "        plt.bar(range(X.shape[1]), importances[indices],\n",
    "               color=\"r\", yerr=std[indices], align=\"center\")\n",
    "        plt.xticks(range(X.shape[1]), indices)\n",
    "        plt.xlim([-1, X.shape[1]])\n",
    "        plt.show()"
   ]
  },
  {
   "cell_type": "markdown",
   "metadata": {},
   "source": [
    "## Quasi-identifiable features/attributes/variables ##"
   ]
  },
  {
   "cell_type": "code",
   "execution_count": 15,
   "metadata": {},
   "outputs": [],
   "source": [
    "##### Remove highly identifiable features #####\n",
    "df_ori = button2.value\n",
    "col = df_ori.columns\n",
    "col_forRemove = col.tolist()\n",
    "col_forRemove.insert(0, 'No columns to remove')\n",
    "remove_id_col = widgets.SelectMultiple(\n",
    "                                options=col_forRemove,\n",
    "                                value=[col_forRemove[0]],\n",
    "                                description='Exclude ID/categorical columns: ',\n",
    "                                disabled=False,\n",
    "                                style=style,\n",
    "                                layout=Layout(width='50%', height='150px')\n",
    "                                )\n",
    "\n",
    "##### ##### #####\n",
    "clu_method_wgt = widgets.RadioButtons(options=['None', 'K-means', 'K-means (extra distance column)'],\n",
    "                                    value='None',\n",
    "                                    description='Generalize features by using',\n",
    "                                    disabled=False,\n",
    "                                    style=style,\n",
    "                                    layout=Layout(width='80%', height='80px')\n",
    "                                    )\n",
    "\n",
    "\n",
    "##### ##### #####\n",
    "scaler_wgt = widgets.RadioButtons(options=['None', 'Standardization', 'Min-Max Scaler', 'Robust Scaler'],\n",
    "                                    value='None',\n",
    "                                    description='Normalize data by',\n",
    "                                    disabled=False,\n",
    "                                    style=style,\n",
    "                                    layout=Layout(width='80%', height='90px')\n",
    "                                    )\n",
    "\n",
    "\n",
    "##### Generalize (Quasi-) identifiable features #####\n",
    "clu_wgt = widgets.BoundedIntText(value=20,min=1,max=len(button2.value)/10,\\\n",
    "                                  step=1,description='Number of clusters:', disabled=False, style=style, layout=uniLayout)\n",
    "\n",
    "\n",
    "##### ##### #####\n",
    "saveiwg = widgets.Text(value='preprocessed_dataFile.csv', description='Save processed data: ', style=style,layout=uniLayout)\n",
    "\n",
    "##### ##### #####\n",
    "button4 = LoadedButton(description=\"Process\", button_style='success', value = button2.value)"
   ]
  },
  {
   "cell_type": "code",
   "execution_count": 16,
   "metadata": {},
   "outputs": [],
   "source": [
    "##### K-means clustering #####\n",
    "def kmeans_func (df_inliers_3, cluster_mode, scaler_mode, clusterNum):\n",
    "    \n",
    "    scaler = [None, StandardScaler(), MinMaxScaler(), RobustScaler()]\n",
    "    \n",
    "    if scaler_mode == 0:\n",
    "        scaled_df_inliers_3 = df_inliers_3\n",
    "    else:\n",
    "        scaled_df_inliers_3 = scaler[scaler_mode].fit_transform(df_inliers_3)\n",
    "    if cluster_mode > 0:\n",
    "        kmeans = KMeans(n_clusters=clusterNum, random_state=0).fit(scaled_df_inliers_3)\n",
    "        data_clusterLabels = kmeans.labels_\n",
    "        data_clusterCenters = kmeans.cluster_centers_\n",
    "\n",
    "        anonymized = []\n",
    "        dist_center = []\n",
    "        for i in range(0, len(data_clusterLabels)):\n",
    "            anonymized.append(data_clusterCenters[data_clusterLabels[i]])\n",
    "            if cluster_mode == 2:\n",
    "                dist_center.append(euclidean_distances([data_clusterCenters[data_clusterLabels[i]]], \\\n",
    "                                                  [scaled_df_inliers_3.iloc[i]])[0])\n",
    "        df_anonymized = pd.DataFrame.from_records(anonymized, columns=scaled_df_inliers_3.columns)\n",
    "\n",
    "        if cluster_mode == 2:\n",
    "            df_anonymized['dist_center'] = pd.Series(dist_center)\n",
    "\n",
    "        print(Counter(kmeans.labels_))\n",
    "    else:\n",
    "        df_anonymized = scaled_df_inliers_3\n",
    "        \n",
    "    print('Done!!')\n",
    "    return df_anonymized"
   ]
  },
  {
   "cell_type": "code",
   "execution_count": 17,
   "metadata": {},
   "outputs": [],
   "source": [
    "def anonymization(event4):\n",
    "    print('\\n\\n Step 4 Processing ...') \n",
    "    df_inliers_2 = event4.value\n",
    "\n",
    "    ##### Remove certain columns\n",
    "    reCol = []\n",
    "    for i in remove_id_col.value:\n",
    "        if i != 'No columns to remove':\n",
    "            reCol.append(i)\n",
    "            \n",
    "    if len(reCol) > 0:\n",
    "        df_inliers_3 = removeCol(df_inliers_2, reCol)\n",
    "    else:\n",
    "        df_inliers_3 = df_inliers_2\n",
    "        \n",
    "    ##### K-means clustering #####\n",
    "    df_anonymized = kmeans_func(df_inliers_3, clu_method_wgt.index, scaler_wgt.index, clu_wgt.value)\n",
    "    \n",
    "    replace_col = df_inliers_3.columns\n",
    "    for i in replace_col:\n",
    "        df_inliers_2[i] = df_anonymized[i]\n",
    "    \n",
    "    if clu_method_wgt.index == 0:\n",
    "        df_inliers_3.to_csv(saveiwg.value, sep=',', encoding='utf-8')\n",
    "        event4.value = df_inliers_3\n",
    "    else:\n",
    "        df_inliers_2.to_csv(saveiwg.value, sep=',', encoding='utf-8')\n",
    "        event4.value = df_inliers_2"
   ]
  },
  {
   "cell_type": "code",
   "execution_count": 18,
   "metadata": {
    "scrolled": false
   },
   "outputs": [
    {
     "data": {
      "application/vnd.jupyter.widget-view+json": {
       "model_id": "e8b0e1a8d9e3497b84aed25e2e3655a1",
       "version_major": 2,
       "version_minor": 0
      },
      "text/plain": [
       "Accordion(children=(Box(children=(RadioButtons(description='Detect potential (quasi-)identifiable features:', …"
      ]
     },
     "metadata": {},
     "output_type": "display_data"
    }
   ],
   "source": [
    "group3 = [id_detect_wgt, id_col_wgt, rank_wgt, button3]\n",
    "group4 = [remove_id_col, scaler_wgt, clu_method_wgt, clu_wgt, saveiwg, button4]\n",
    "\n",
    "box3 = widgets.Box(children=group3, layout=box_layout)\n",
    "box4 = widgets.Box(children=group4, layout=box_layout)\n",
    "\n",
    "accordion3 = widgets.Accordion(children=[box3, box4], style=style)\n",
    "accordion3.set_title(0, 'Step 3 Detect potential (quasi-)identifiable features')\n",
    "accordion3.set_title(1, 'Step 4 Anonymize (generalize) (quasi-)identifiable features')\n",
    "\n",
    "button3.on_click(id_feature_detect)\n",
    "button4.on_click(anonymization)\n",
    "accordion3"
   ]
  },
  {
   "cell_type": "code",
   "execution_count": null,
   "metadata": {},
   "outputs": [],
   "source": []
  },
  {
   "cell_type": "code",
   "execution_count": null,
   "metadata": {},
   "outputs": [],
   "source": []
  }
 ],
 "metadata": {
  "kernelspec": {
   "display_name": "Python 3",
   "language": "python",
   "name": "python3"
  },
  "language_info": {
   "codemirror_mode": {
    "name": "ipython",
    "version": 3
   },
   "file_extension": ".py",
   "mimetype": "text/x-python",
   "name": "python",
   "nbconvert_exporter": "python",
   "pygments_lexer": "ipython3",
   "version": "3.6.2"
  },
  "widgets": {
   "application/vnd.jupyter.widget-state+json": {
    "state": {
     "01e2d21e298d4b129f72c76a8a603c5d": {
      "model_module": "@jupyter-widgets/base",
      "model_module_version": "1.1.0",
      "model_name": "LayoutModel",
      "state": {
       "height": "30px",
       "width": "50%"
      }
     },
     "02eb1691b48c4d3ea38e4bc060474234": {
      "model_module": "@jupyter-widgets/controls",
      "model_module_version": "1.4.0",
      "model_name": "AccordionModel",
      "state": {
       "_titles": {
        "0": "Step 0 Input data"
       },
       "children": [
        "IPY_MODEL_881b8b6dae5a4301a40fdea141a97149"
       ],
       "layout": "IPY_MODEL_b968bbb808f34b758448801e58920b35"
      }
     },
     "04681e247b564a3c8f0eea68ed5f1044": {
      "model_module": "@jupyter-widgets/base",
      "model_module_version": "1.1.0",
      "model_name": "LayoutModel",
      "state": {}
     },
     "04ccccd621d44d2d844c182b6a939657": {
      "model_module": "@jupyter-widgets/controls",
      "model_module_version": "1.4.0",
      "model_name": "BoxModel",
      "state": {
       "children": [
        "IPY_MODEL_dacefc1b801d4be0833c1bb270cab23b",
        "IPY_MODEL_8f083cc7de234b3aaf41b338bd44e508"
       ],
       "layout": "IPY_MODEL_500f9aaaaf0d4a2cba451ff5aed68aca"
      }
     },
     "096fb8fd86684ccb967a9211b152321d": {
      "model_module": "@jupyter-widgets/controls",
      "model_module_version": "1.4.0",
      "model_name": "BoxModel",
      "state": {
       "children": [
        "IPY_MODEL_ddfa39a24876469381ac4d5a153b4dc5",
        "IPY_MODEL_acdc9c7bc5bf4aacb7e2021ca8aff8d4",
        "IPY_MODEL_6a56013892f94022a676a56543423850",
        "IPY_MODEL_540c4fb944824ff7840c12f1b222400f",
        "IPY_MODEL_a6c1c802a89b493d89bd21f4181efec7"
       ],
       "layout": "IPY_MODEL_2b255c1a854e4f689ba176afc0757a21"
      }
     },
     "097c025d74aa49d7bcddb80e6e1da2d9": {
      "model_module": "@jupyter-widgets/base",
      "model_module_version": "1.1.0",
      "model_name": "LayoutModel",
      "state": {}
     },
     "0b086d0cc5c44ce7a84e7b418d805151": {
      "model_module": "@jupyter-widgets/controls",
      "model_module_version": "1.4.0",
      "model_name": "RadioButtonsModel",
      "state": {
       "_options_labels": [
        "None",
        "Standardization",
        "Min-Max Scaler",
        "Robust Scaler"
       ],
       "description": "Normalize data by",
       "index": 0,
       "layout": "IPY_MODEL_2f18c37ddc8a46689b154e89b9750941",
       "style": "IPY_MODEL_1ebc84a3f2674ea1bcec74a9daf49b32"
      }
     },
     "1070de5c295244ddb6bad15fb58b200c": {
      "model_module": "@jupyter-widgets/base",
      "model_module_version": "1.1.0",
      "model_name": "LayoutModel",
      "state": {
       "align_content": "flex-start",
       "align_items": "stretch",
       "display": "center",
       "flex_flow": "column",
       "width": "80%"
      }
     },
     "11d4fc3f0863451db22daf8162521d2f": {
      "model_module": "@jupyter-widgets/controls",
      "model_module_version": "1.4.0",
      "model_name": "DescriptionStyleModel",
      "state": {
       "description_width": "initial"
      }
     },
     "1292241b96f747aa88f61d93d38126b4": {
      "model_module": "@jupyter-widgets/controls",
      "model_module_version": "1.4.0",
      "model_name": "TextModel",
      "state": {
       "description": "Save processed data: ",
       "layout": "IPY_MODEL_75ec1b3516a746119872ec8240cc88eb",
       "style": "IPY_MODEL_839a3726674148ef94488e4fb844946e",
       "value": "preprocessed_dataFile.csv"
      }
     },
     "13ea654c1d3346339ebe51f63ab8d215": {
      "model_module": "@jupyter-widgets/controls",
      "model_module_version": "1.4.0",
      "model_name": "DescriptionStyleModel",
      "state": {
       "description_width": "initial"
      }
     },
     "1790bae29aea45f0818fbb6c580ed8ba": {
      "model_module": "@jupyter-widgets/base",
      "model_module_version": "1.1.0",
      "model_name": "LayoutModel",
      "state": {}
     },
     "1811ba46dc4a4aaca5d832de12d2e4e1": {
      "model_module": "@jupyter-widgets/controls",
      "model_module_version": "1.4.0",
      "model_name": "AccordionModel",
      "state": {
       "_titles": {
        "0": "Step 0 Input data"
       },
       "children": [
        "IPY_MODEL_a3d98135a882401fbe0a15d40e2d7de0"
       ],
       "layout": "IPY_MODEL_99de12a956c24f0bacab6c845bebc0cc"
      }
     },
     "18a766204b824233968ec7d6638aa736": {
      "model_module": "@jupyter-widgets/base",
      "model_module_version": "1.1.0",
      "model_name": "LayoutModel",
      "state": {}
     },
     "190f5623a2c347cea50fcde9502ebde2": {
      "model_module": "@jupyter-widgets/controls",
      "model_module_version": "1.4.0",
      "model_name": "DescriptionStyleModel",
      "state": {
       "description_width": "initial"
      }
     },
     "1b540012d9ec4934bd375e9822c716c7": {
      "model_module": "@jupyter-widgets/controls",
      "model_module_version": "1.4.0",
      "model_name": "DescriptionStyleModel",
      "state": {
       "description_width": "initial"
      }
     },
     "1cc3eae069104ec4b3fa8a5048a5f8ed": {
      "model_module": "@jupyter-widgets/base",
      "model_module_version": "1.1.0",
      "model_name": "LayoutModel",
      "state": {
       "align_content": "flex-start",
       "align_items": "stretch",
       "display": "center",
       "flex_flow": "column",
       "width": "80%"
      }
     },
     "1d8b39c9954e41dd882e5dc6005be164": {
      "model_module": "@jupyter-widgets/controls",
      "model_module_version": "1.4.0",
      "model_name": "DescriptionStyleModel",
      "state": {
       "description_width": "initial"
      }
     },
     "1ebc84a3f2674ea1bcec74a9daf49b32": {
      "model_module": "@jupyter-widgets/controls",
      "model_module_version": "1.4.0",
      "model_name": "DescriptionStyleModel",
      "state": {
       "description_width": "initial"
      }
     },
     "22df0a16b1af4af480c98df12f6570ce": {
      "model_module": "@jupyter-widgets/controls",
      "model_module_version": "1.4.0",
      "model_name": "DescriptionStyleModel",
      "state": {
       "description_width": "initial"
      }
     },
     "247b3d7947c842489d7a00e458a2f6ba": {
      "model_module": "@jupyter-widgets/controls",
      "model_module_version": "1.4.0",
      "model_name": "BoundedFloatTextModel",
      "state": {
       "description": "Outliers percent:",
       "layout": "IPY_MODEL_75ec1b3516a746119872ec8240cc88eb",
       "max": 1,
       "step": 1,
       "style": "IPY_MODEL_c4eb2f57a85946038894138b8c681e01",
       "value": 0.05
      }
     },
     "24c394cc215a43c39d23d00583c936d9": {
      "model_module": "@jupyter-widgets/base",
      "model_module_version": "1.1.0",
      "model_name": "LayoutModel",
      "state": {}
     },
     "2659f8a73d494dfcbcc32b3e6eb6011e": {
      "model_module": "@jupyter-widgets/controls",
      "model_module_version": "1.4.0",
      "model_name": "SelectMultipleModel",
      "state": {
       "_options_labels": [
        "No columns to remove",
        "encounter_id",
        "patient_nbr",
        "race",
        "gender",
        "age",
        "weight",
        "admission_type_id",
        "discharge_disposition_id",
        "admission_source_id",
        "time_in_hospital",
        "payer_code",
        "medical_specialty",
        "num_lab_procedures",
        "num_procedures",
        "num_medications",
        "number_outpatient",
        "number_emergency",
        "number_inpatient",
        "diag_1",
        "diag_2",
        "diag_3",
        "number_diagnoses",
        "max_glu_serum",
        "A1Cresult",
        "metformin",
        "repaglinide",
        "nateglinide",
        "chlorpropamide",
        "glimepiride",
        "acetohexamide",
        "glipizide",
        "glyburide",
        "tolbutamide",
        "pioglitazone",
        "rosiglitazone",
        "acarbose",
        "miglitol",
        "troglitazone",
        "tolazamide",
        "examide",
        "citoglipton",
        "insulin",
        "glyburide-metformin",
        "glipizide-metformin",
        "glimepiride-pioglitazone",
        "metformin-rosiglitazone",
        "metformin-pioglitazone",
        "change",
        "diabetesMed",
        "readmitted"
       ],
       "description": "Exclude ID/categorical columns: ",
       "index": [
        0
       ],
       "layout": "IPY_MODEL_ec036bfca19b4f48b46a815924056c17",
       "rows": 5,
       "style": "IPY_MODEL_3c96ece85ed64d828aa636be144412b5"
      }
     },
     "2831802bbdad441da9b52d8c08247b3f": {
      "model_module": "@jupyter-widgets/controls",
      "model_module_version": "1.4.0",
      "model_name": "CheckboxModel",
      "state": {
       "description": "Remove detected outliers",
       "disabled": false,
       "layout": "IPY_MODEL_75ec1b3516a746119872ec8240cc88eb",
       "style": "IPY_MODEL_a7c369dbd8984b8d80fc6ef509fdc0b1",
       "value": false
      }
     },
     "2833279c32ed47e9a52b5d25e716c25c": {
      "model_module": "@jupyter-widgets/controls",
      "model_module_version": "1.4.0",
      "model_name": "DescriptionStyleModel",
      "state": {
       "description_width": "initial"
      }
     },
     "2896d8f4d9d24f72ad92fe4b6afa20d8": {
      "model_module": "@jupyter-widgets/base",
      "model_module_version": "1.1.0",
      "model_name": "LayoutModel",
      "state": {}
     },
     "29bc59d68c6f4ff2a8df585cfb03c45e": {
      "model_module": "@jupyter-widgets/controls",
      "model_module_version": "1.4.0",
      "model_name": "RadioButtonsModel",
      "state": {
       "_options_labels": [
        "Diversity Checking",
        "Decision Tree",
        "Random Forest"
       ],
       "description": "Detect potential (quasi-)identifiable features:",
       "index": 0,
       "layout": "IPY_MODEL_82362a5cb0034882b435e5255b24557f",
       "style": "IPY_MODEL_13ea654c1d3346339ebe51f63ab8d215"
      }
     },
     "2b255c1a854e4f689ba176afc0757a21": {
      "model_module": "@jupyter-widgets/base",
      "model_module_version": "1.1.0",
      "model_name": "LayoutModel",
      "state": {
       "align_content": "flex-start",
       "align_items": "stretch",
       "display": "center",
       "flex_flow": "column",
       "width": "80%"
      }
     },
     "2d9de6c4b1744ca2935a1254fbadb183": {
      "model_module": "@jupyter-widgets/controls",
      "model_module_version": "1.4.0",
      "model_name": "DescriptionStyleModel",
      "state": {
       "description_width": "initial"
      }
     },
     "2f18c37ddc8a46689b154e89b9750941": {
      "model_module": "@jupyter-widgets/base",
      "model_module_version": "1.1.0",
      "model_name": "LayoutModel",
      "state": {
       "height": "90px",
       "width": "80%"
      }
     },
     "35197c9699d1453ea36049e8a230ab0f": {
      "model_module": "@jupyter-widgets/base",
      "model_module_version": "1.1.0",
      "model_name": "LayoutModel",
      "state": {
       "height": "30px",
       "width": "50%"
      }
     },
     "378d15e50fe24fa9882c243428cc9f9c": {
      "model_module": "@jupyter-widgets/controls",
      "model_module_version": "1.4.0",
      "model_name": "AccordionModel",
      "state": {
       "_titles": {
        "0": "Step 0 Input data"
       },
       "children": [
        "IPY_MODEL_6e170af4b6124894bf9db179691f215b"
       ],
       "layout": "IPY_MODEL_b5fc56b86d674ca48cea0f7eb48e5749"
      }
     },
     "37d8b053025047d987950f5684d4d8b9": {
      "model_module": "@jupyter-widgets/base",
      "model_module_version": "1.1.0",
      "model_name": "LayoutModel",
      "state": {}
     },
     "38e87e3b95b647c1be651e1045d8b2dc": {
      "model_module": "@jupyter-widgets/base",
      "model_module_version": "1.1.0",
      "model_name": "LayoutModel",
      "state": {
       "align_content": "flex-start",
       "align_items": "stretch",
       "display": "center",
       "flex_flow": "column",
       "width": "80%"
      }
     },
     "3b29c8178cb14cdd892a33067d76b68d": {
      "model_module": "@jupyter-widgets/controls",
      "model_module_version": "1.4.0",
      "model_name": "TextModel",
      "state": {
       "description": "Any special characters to present missing values: ",
       "layout": "IPY_MODEL_01e2d21e298d4b129f72c76a8a603c5d",
       "style": "IPY_MODEL_11d4fc3f0863451db22daf8162521d2f",
       "value": "?"
      }
     },
     "3b89eaa84073432babae3fdf4f0729cb": {
      "model_module": "@jupyter-widgets/controls",
      "model_module_version": "1.4.0",
      "model_name": "DescriptionStyleModel",
      "state": {
       "description_width": "initial"
      }
     },
     "3c96ece85ed64d828aa636be144412b5": {
      "model_module": "@jupyter-widgets/controls",
      "model_module_version": "1.4.0",
      "model_name": "DescriptionStyleModel",
      "state": {
       "description_width": "initial"
      }
     },
     "3d5cedbf353a4408a3a890a981234279": {
      "model_module": "@jupyter-widgets/controls",
      "model_module_version": "1.4.0",
      "model_name": "AccordionModel",
      "state": {
       "_titles": {
        "0": "Step 0 Input data"
       },
       "children": [
        "IPY_MODEL_7c5147afdeea40c399fd0b82c796113f"
       ],
       "layout": "IPY_MODEL_2896d8f4d9d24f72ad92fe4b6afa20d8"
      }
     },
     "3d8df9bbe21248ee8b7c2df1200f2474": {
      "model_module": "@jupyter-widgets/controls",
      "model_module_version": "1.4.0",
      "model_name": "ButtonModel",
      "state": {
       "button_style": "success",
       "description": "Process",
       "layout": "IPY_MODEL_37d8b053025047d987950f5684d4d8b9",
       "style": "IPY_MODEL_bde2eec953594571bb8491ca2ff9bf8c"
      }
     },
     "3e1a4002540a4b36a0ca62a20a03c7ac": {
      "model_module": "@jupyter-widgets/base",
      "model_module_version": "1.1.0",
      "model_name": "LayoutModel",
      "state": {}
     },
     "3e8b972467234a2686bcf2796c055621": {
      "model_module": "@jupyter-widgets/controls",
      "model_module_version": "1.4.0",
      "model_name": "DescriptionStyleModel",
      "state": {
       "description_width": "initial"
      }
     },
     "3fed0c7dd17644adb31354d8769b9afa": {
      "model_module": "@jupyter-widgets/controls",
      "model_module_version": "1.4.0",
      "model_name": "TextModel",
      "state": {
       "description": "Data File Path: ",
       "layout": "IPY_MODEL_35197c9699d1453ea36049e8a230ab0f",
       "style": "IPY_MODEL_3b89eaa84073432babae3fdf4f0729cb",
       "value": "diabetic_data.csv"
      }
     },
     "411b812d3e864216bd3a5fa5a50ba50b": {
      "model_module": "@jupyter-widgets/controls",
      "model_module_version": "1.4.0",
      "model_name": "AccordionModel",
      "state": {
       "_titles": {
        "0": "Step 0 Input data"
       },
       "children": [
        "IPY_MODEL_d7fbe74fdd3a4bbcbd0e026df5dc0e67"
       ],
       "layout": "IPY_MODEL_3e1a4002540a4b36a0ca62a20a03c7ac"
      }
     },
     "4559fc7a9f544768bd285eae0605e3c4": {
      "model_module": "@jupyter-widgets/controls",
      "model_module_version": "1.4.0",
      "model_name": "BoxModel",
      "state": {
       "children": [
        "IPY_MODEL_90dc6a959eee4f67ac55322ab5207658",
        "IPY_MODEL_7be21177ed59442cbd7e2a465bac8e2b",
        "IPY_MODEL_c4a08b98bd7444b1a4578502be8d1fbb",
        "IPY_MODEL_68063b79cfe342cf8506bafd963ffe96"
       ],
       "layout": "IPY_MODEL_1cc3eae069104ec4b3fa8a5048a5f8ed"
      }
     },
     "46ffbf14b7e24845bd80cd6595c39a49": {
      "model_module": "@jupyter-widgets/controls",
      "model_module_version": "1.4.0",
      "model_name": "ButtonStyleModel",
      "state": {}
     },
     "47afe8b2e24e43f8b261caf965cc17cb": {
      "model_module": "@jupyter-widgets/base",
      "model_module_version": "1.1.0",
      "model_name": "LayoutModel",
      "state": {}
     },
     "483e26a1ec0e4c8896f5ed11861bf91c": {
      "model_module": "@jupyter-widgets/controls",
      "model_module_version": "1.4.0",
      "model_name": "DescriptionStyleModel",
      "state": {
       "description_width": "initial"
      }
     },
     "494b7196a3324b269872db02d10bcd53": {
      "model_module": "@jupyter-widgets/controls",
      "model_module_version": "1.4.0",
      "model_name": "CheckboxModel",
      "state": {
       "description": "Check the missing values",
       "disabled": false,
       "layout": "IPY_MODEL_01e2d21e298d4b129f72c76a8a603c5d",
       "style": "IPY_MODEL_483e26a1ec0e4c8896f5ed11861bf91c",
       "value": true
      }
     },
     "500f9aaaaf0d4a2cba451ff5aed68aca": {
      "model_module": "@jupyter-widgets/base",
      "model_module_version": "1.1.0",
      "model_name": "LayoutModel",
      "state": {
       "align_content": "flex-start",
       "align_items": "stretch",
       "display": "center",
       "flex_flow": "column",
       "width": "80%"
      }
     },
     "522534fdb5574b6d8f5b06a5e46d7349": {
      "model_module": "@jupyter-widgets/base",
      "model_module_version": "1.1.0",
      "model_name": "LayoutModel",
      "state": {
       "height": "150px",
       "width": "50%"
      }
     },
     "5265219649394432be2faa0e411e1a2f": {
      "model_module": "@jupyter-widgets/controls",
      "model_module_version": "1.4.0",
      "model_name": "ButtonStyleModel",
      "state": {}
     },
     "540c4fb944824ff7840c12f1b222400f": {
      "model_module": "@jupyter-widgets/controls",
      "model_module_version": "1.4.0",
      "model_name": "CheckboxModel",
      "state": {
       "description": "Remove detected outliers",
       "disabled": false,
       "layout": "IPY_MODEL_01e2d21e298d4b129f72c76a8a603c5d",
       "style": "IPY_MODEL_ba2712e576264401937539496975184f",
       "value": false
      }
     },
     "54ecde21ed1b40cda4465264533aa1ef": {
      "model_module": "@jupyter-widgets/controls",
      "model_module_version": "1.4.0",
      "model_name": "ButtonModel",
      "state": {
       "button_style": "success",
       "description": "Process",
       "layout": "IPY_MODEL_ddaae1118d444e2ebc48b975dce44326",
       "style": "IPY_MODEL_586d58227ec14d3797cbc1eb37ca3120"
      }
     },
     "57a6d981d7624b7f9af29de6f50cd592": {
      "model_module": "@jupyter-widgets/controls",
      "model_module_version": "1.4.0",
      "model_name": "SelectMultipleModel",
      "state": {
       "_options_labels": [
        "encounter_id",
        "patient_nbr",
        "race",
        "gender",
        "age",
        "weight",
        "admission_type_id",
        "discharge_disposition_id",
        "admission_source_id",
        "time_in_hospital",
        "payer_code",
        "medical_specialty",
        "num_lab_procedures",
        "num_procedures",
        "num_medications",
        "number_outpatient",
        "number_emergency",
        "number_inpatient",
        "diag_1",
        "diag_2",
        "diag_3",
        "number_diagnoses",
        "max_glu_serum",
        "A1Cresult",
        "metformin",
        "repaglinide",
        "nateglinide",
        "chlorpropamide",
        "glimepiride",
        "acetohexamide",
        "glipizide",
        "glyburide",
        "tolbutamide",
        "pioglitazone",
        "rosiglitazone",
        "acarbose",
        "miglitol",
        "troglitazone",
        "tolazamide",
        "examide",
        "citoglipton",
        "insulin",
        "glyburide-metformin",
        "glipizide-metformin",
        "glimepiride-pioglitazone",
        "metformin-rosiglitazone",
        "metformin-pioglitazone",
        "change",
        "diabetesMed",
        "readmitted"
       ],
       "description": "Select ID/data index column: ",
       "index": [
        0
       ],
       "layout": "IPY_MODEL_f6aec394d51b40d4a5753a22e38f0759",
       "rows": 5,
       "style": "IPY_MODEL_1d8b39c9954e41dd882e5dc6005be164"
      }
     },
     "586d58227ec14d3797cbc1eb37ca3120": {
      "model_module": "@jupyter-widgets/controls",
      "model_module_version": "1.4.0",
      "model_name": "ButtonStyleModel",
      "state": {}
     },
     "590006a4df8e4957861e1d9dc826c036": {
      "model_module": "@jupyter-widgets/controls",
      "model_module_version": "1.4.0",
      "model_name": "TextModel",
      "state": {
       "description": "Any special characters to present missing values: ",
       "layout": "IPY_MODEL_35197c9699d1453ea36049e8a230ab0f",
       "style": "IPY_MODEL_e2616c43703a4c10bb56f0960644d0e7",
       "value": "?"
      }
     },
     "5aab2d7aabf94366adb93a633da8e0ba": {
      "model_module": "@jupyter-widgets/controls",
      "model_module_version": "1.4.0",
      "model_name": "DescriptionStyleModel",
      "state": {
       "description_width": "initial"
      }
     },
     "5d15c18a6e4c4ae6b1969d102e1eb519": {
      "model_module": "@jupyter-widgets/controls",
      "model_module_version": "1.4.0",
      "model_name": "BoxModel",
      "state": {
       "children": [
        "IPY_MODEL_90dc6a959eee4f67ac55322ab5207658",
        "IPY_MODEL_7be21177ed59442cbd7e2a465bac8e2b",
        "IPY_MODEL_c4a08b98bd7444b1a4578502be8d1fbb",
        "IPY_MODEL_68063b79cfe342cf8506bafd963ffe96"
       ],
       "layout": "IPY_MODEL_1070de5c295244ddb6bad15fb58b200c"
      }
     },
     "5d97bdc2e6aa41ceae76f91edad68560": {
      "model_module": "@jupyter-widgets/controls",
      "model_module_version": "1.4.0",
      "model_name": "AccordionModel",
      "state": {
       "_titles": {
        "0": "Step 0 Input data"
       },
       "children": [
        "IPY_MODEL_4559fc7a9f544768bd285eae0605e3c4"
       ],
       "layout": "IPY_MODEL_097c025d74aa49d7bcddb80e6e1da2d9"
      }
     },
     "5f7a76cb42fa43e887c7253569fade63": {
      "model_module": "@jupyter-widgets/controls",
      "model_module_version": "1.4.0",
      "model_name": "ButtonModel",
      "state": {
       "button_style": "success",
       "description": "Process",
       "layout": "IPY_MODEL_04681e247b564a3c8f0eea68ed5f1044",
       "style": "IPY_MODEL_d128169be89449199db355fa39278fbe"
      }
     },
     "6360dea18fb04e949aeb9896a6bb6f4a": {
      "model_module": "@jupyter-widgets/controls",
      "model_module_version": "1.4.0",
      "model_name": "AccordionModel",
      "state": {
       "_titles": {
        "0": "Step 0 Input data"
       },
       "children": [
        "IPY_MODEL_5d15c18a6e4c4ae6b1969d102e1eb519"
       ],
       "layout": "IPY_MODEL_47afe8b2e24e43f8b261caf965cc17cb"
      }
     },
     "66f66a67980f4ff6b3cc877b064e1ef4": {
      "model_module": "@jupyter-widgets/controls",
      "model_module_version": "1.4.0",
      "model_name": "TextModel",
      "state": {
       "description": "Data File Path: ",
       "layout": "IPY_MODEL_01e2d21e298d4b129f72c76a8a603c5d",
       "style": "IPY_MODEL_b1f2824d34264cb3932f852e085fad0b",
       "value": "diabetic_data.csv"
      }
     },
     "67c8d0407cdb48738f7754ef24270a7f": {
      "model_module": "@jupyter-widgets/controls",
      "model_module_version": "1.4.0",
      "model_name": "ButtonStyleModel",
      "state": {}
     },
     "68063b79cfe342cf8506bafd963ffe96": {
      "model_module": "@jupyter-widgets/controls",
      "model_module_version": "1.4.0",
      "model_name": "ButtonModel",
      "state": {
       "button_style": "success",
       "description": "Input data",
       "layout": "IPY_MODEL_ebdcb1a7d93b488baa339439c2a01e8d",
       "style": "IPY_MODEL_5265219649394432be2faa0e411e1a2f"
      }
     },
     "68814b4d89c344159712b2087df35f8e": {
      "model_module": "@jupyter-widgets/base",
      "model_module_version": "1.1.0",
      "model_name": "LayoutModel",
      "state": {
       "align_content": "flex-start",
       "align_items": "stretch",
       "display": "center",
       "flex_flow": "column",
       "width": "80%"
      }
     },
     "6896a6d1349a4c81b96d8e90af9149d1": {
      "model_module": "@jupyter-widgets/controls",
      "model_module_version": "1.4.0",
      "model_name": "DescriptionStyleModel",
      "state": {
       "description_width": "initial"
      }
     },
     "68bfe34ff0cd443593495cb497c826a8": {
      "model_module": "@jupyter-widgets/controls",
      "model_module_version": "1.4.0",
      "model_name": "TextModel",
      "state": {
       "description": "Data File Path: ",
       "layout": "IPY_MODEL_75ec1b3516a746119872ec8240cc88eb",
       "style": "IPY_MODEL_2d9de6c4b1744ca2935a1254fbadb183",
       "value": "diabetic_data.csv"
      }
     },
     "6a56013892f94022a676a56543423850": {
      "model_module": "@jupyter-widgets/controls",
      "model_module_version": "1.4.0",
      "model_name": "BoundedFloatTextModel",
      "state": {
       "description": "Outliers percent:",
       "layout": "IPY_MODEL_01e2d21e298d4b129f72c76a8a603c5d",
       "max": 1,
       "step": 1,
       "style": "IPY_MODEL_22df0a16b1af4af480c98df12f6570ce",
       "value": 0.05
      }
     },
     "6a5659faedc946c78ec52920539b80d3": {
      "model_module": "@jupyter-widgets/controls",
      "model_module_version": "1.4.0",
      "model_name": "DescriptionStyleModel",
      "state": {
       "description_width": "initial"
      }
     },
     "6ce3f864f529454b8d67ec41b0c42742": {
      "model_module": "@jupyter-widgets/base",
      "model_module_version": "1.1.0",
      "model_name": "LayoutModel",
      "state": {}
     },
     "6e170af4b6124894bf9db179691f215b": {
      "model_module": "@jupyter-widgets/controls",
      "model_module_version": "1.4.0",
      "model_name": "BoxModel",
      "state": {
       "children": [
        "IPY_MODEL_90dc6a959eee4f67ac55322ab5207658",
        "IPY_MODEL_7be21177ed59442cbd7e2a465bac8e2b",
        "IPY_MODEL_c4a08b98bd7444b1a4578502be8d1fbb",
        "IPY_MODEL_68063b79cfe342cf8506bafd963ffe96"
       ],
       "layout": "IPY_MODEL_68814b4d89c344159712b2087df35f8e"
      }
     },
     "6e6685209d144327a1525c5c6b9ed51d": {
      "model_module": "@jupyter-widgets/controls",
      "model_module_version": "1.4.0",
      "model_name": "CheckboxModel",
      "state": {
       "description": "Check the missing values",
       "disabled": false,
       "layout": "IPY_MODEL_35197c9699d1453ea36049e8a230ab0f",
       "style": "IPY_MODEL_e16eb7391c32466db94afdadd41cc1e5",
       "value": true
      }
     },
     "70d148063a30483a8236a2eb6c7e9c1d": {
      "model_module": "@jupyter-widgets/controls",
      "model_module_version": "1.4.0",
      "model_name": "BoundedIntTextModel",
      "state": {
       "description": "Number of clusters:",
       "layout": "IPY_MODEL_75ec1b3516a746119872ec8240cc88eb",
       "max": 10176,
       "min": 1,
       "style": "IPY_MODEL_1b540012d9ec4934bd375e9822c716c7",
       "value": 20
      }
     },
     "71f99195f1c84c14a4cc69aa9ad98268": {
      "model_module": "@jupyter-widgets/controls",
      "model_module_version": "1.4.0",
      "model_name": "RadioButtonsModel",
      "state": {
       "_options_labels": [
        "Diversity Checking",
        "Decision Tree",
        "Random Forest"
       ],
       "description": "Detect potential (quasi-)identifiable features:",
       "index": 2,
       "layout": "IPY_MODEL_d6cf6d7a8a614a7eb1e9524583108a40",
       "style": "IPY_MODEL_742113d20cb24fec8ecb80d9310a22c2"
      }
     },
     "742113d20cb24fec8ecb80d9310a22c2": {
      "model_module": "@jupyter-widgets/controls",
      "model_module_version": "1.4.0",
      "model_name": "DescriptionStyleModel",
      "state": {
       "description_width": "initial"
      }
     },
     "751c82692b784d40a4cd99af4a9070dd": {
      "model_module": "@jupyter-widgets/base",
      "model_module_version": "1.1.0",
      "model_name": "LayoutModel",
      "state": {}
     },
     "75ec1b3516a746119872ec8240cc88eb": {
      "model_module": "@jupyter-widgets/base",
      "model_module_version": "1.1.0",
      "model_name": "LayoutModel",
      "state": {
       "height": "30px",
       "width": "50%"
      }
     },
     "75ec9055f1df49a493c6bd0f8c5027f0": {
      "model_module": "@jupyter-widgets/controls",
      "model_module_version": "1.4.0",
      "model_name": "BoxModel",
      "state": {
       "children": [
        "IPY_MODEL_2659f8a73d494dfcbcc32b3e6eb6011e",
        "IPY_MODEL_0b086d0cc5c44ce7a84e7b418d805151",
        "IPY_MODEL_8481cb479987464e8dab452d38c12af4",
        "IPY_MODEL_70d148063a30483a8236a2eb6c7e9c1d",
        "IPY_MODEL_1292241b96f747aa88f61d93d38126b4",
        "IPY_MODEL_54ecde21ed1b40cda4465264533aa1ef"
       ],
       "layout": "IPY_MODEL_500f9aaaaf0d4a2cba451ff5aed68aca"
      }
     },
     "7825058f034240a3852655d100f62955": {
      "model_module": "@jupyter-widgets/controls",
      "model_module_version": "1.4.0",
      "model_name": "BoxModel",
      "state": {
       "children": [
        "IPY_MODEL_3fed0c7dd17644adb31354d8769b9afa",
        "IPY_MODEL_590006a4df8e4957861e1d9dc826c036",
        "IPY_MODEL_6e6685209d144327a1525c5c6b9ed51d",
        "IPY_MODEL_a30ca22f9b9e4c4c8fa2dbaa7366c052"
       ],
       "layout": "IPY_MODEL_a243643afaaa42698f81b6e7b2b40039"
      }
     },
     "788d894449a647e7aa7740cd6930d38d": {
      "model_module": "@jupyter-widgets/controls",
      "model_module_version": "1.4.0",
      "model_name": "BoxModel",
      "state": {
       "children": [
        "IPY_MODEL_90dc6a959eee4f67ac55322ab5207658",
        "IPY_MODEL_7be21177ed59442cbd7e2a465bac8e2b",
        "IPY_MODEL_c4a08b98bd7444b1a4578502be8d1fbb",
        "IPY_MODEL_68063b79cfe342cf8506bafd963ffe96"
       ],
       "layout": "IPY_MODEL_af699507360e484681cbd3cacadc6605"
      }
     },
     "7be21177ed59442cbd7e2a465bac8e2b": {
      "model_module": "@jupyter-widgets/controls",
      "model_module_version": "1.4.0",
      "model_name": "TextModel",
      "state": {
       "description": "Any special characters to present missing values: ",
       "layout": "IPY_MODEL_d29d27340f96485ca721429284e3981a",
       "style": "IPY_MODEL_fae8a69ccd3741039439427962a724db",
       "value": "?"
      }
     },
     "7c5147afdeea40c399fd0b82c796113f": {
      "model_module": "@jupyter-widgets/controls",
      "model_module_version": "1.4.0",
      "model_name": "BoxModel",
      "state": {
       "children": [
        "IPY_MODEL_3fed0c7dd17644adb31354d8769b9afa",
        "IPY_MODEL_590006a4df8e4957861e1d9dc826c036",
        "IPY_MODEL_6e6685209d144327a1525c5c6b9ed51d",
        "IPY_MODEL_a30ca22f9b9e4c4c8fa2dbaa7366c052"
       ],
       "layout": "IPY_MODEL_38e87e3b95b647c1be651e1045d8b2dc"
      }
     },
     "7cb68af6c7bf41698f65f3151292c664": {
      "model_module": "@jupyter-widgets/base",
      "model_module_version": "1.1.0",
      "model_name": "LayoutModel",
      "state": {
       "height": "150px",
       "width": "50%"
      }
     },
     "7f3bfaf2c522496d85f9f7021aa87e63": {
      "model_module": "@jupyter-widgets/base",
      "model_module_version": "1.1.0",
      "model_name": "LayoutModel",
      "state": {}
     },
     "82362a5cb0034882b435e5255b24557f": {
      "model_module": "@jupyter-widgets/base",
      "model_module_version": "1.1.0",
      "model_name": "LayoutModel",
      "state": {
       "height": "60px",
       "width": "80%"
      }
     },
     "82c28c37c6294a59ad58b31d00b4bbe5": {
      "model_module": "@jupyter-widgets/base",
      "model_module_version": "1.1.0",
      "model_name": "LayoutModel",
      "state": {}
     },
     "839a3726674148ef94488e4fb844946e": {
      "model_module": "@jupyter-widgets/controls",
      "model_module_version": "1.4.0",
      "model_name": "DescriptionStyleModel",
      "state": {
       "description_width": "initial"
      }
     },
     "8481cb479987464e8dab452d38c12af4": {
      "model_module": "@jupyter-widgets/controls",
      "model_module_version": "1.4.0",
      "model_name": "RadioButtonsModel",
      "state": {
       "_options_labels": [
        "None",
        "K-means",
        "K-means (extra distance column)"
       ],
       "description": "Generalize features by using",
       "index": 0,
       "layout": "IPY_MODEL_92b013ba7a7e4558a33a0ed3df912d82",
       "style": "IPY_MODEL_c904a510e3364406b12b0af7b6c26309"
      }
     },
     "881b8b6dae5a4301a40fdea141a97149": {
      "model_module": "@jupyter-widgets/controls",
      "model_module_version": "1.4.0",
      "model_name": "BoxModel",
      "state": {
       "children": [
        "IPY_MODEL_66f66a67980f4ff6b3cc877b064e1ef4",
        "IPY_MODEL_3b29c8178cb14cdd892a33067d76b68d",
        "IPY_MODEL_494b7196a3324b269872db02d10bcd53",
        "IPY_MODEL_af4ddd0b6d9043568109185e8308b597"
       ],
       "layout": "IPY_MODEL_2b255c1a854e4f689ba176afc0757a21"
      }
     },
     "8ccdc2f06f1c4fc8a99b1c5dd7bad500": {
      "model_module": "@jupyter-widgets/base",
      "model_module_version": "1.1.0",
      "model_name": "LayoutModel",
      "state": {
       "align_content": "flex-start",
       "align_items": "stretch",
       "display": "center",
       "flex_flow": "column",
       "width": "80%"
      }
     },
     "8f083cc7de234b3aaf41b338bd44e508": {
      "model_module": "@jupyter-widgets/controls",
      "model_module_version": "1.4.0",
      "model_name": "SelectMultipleModel",
      "state": {
       "_options_labels": [
        "No columns to remove",
        "encounter_id",
        "patient_nbr",
        "race",
        "gender",
        "age",
        "weight",
        "admission_type_id",
        "discharge_disposition_id",
        "admission_source_id",
        "time_in_hospital",
        "payer_code",
        "medical_specialty",
        "num_lab_procedures",
        "num_procedures",
        "num_medications",
        "number_outpatient",
        "number_emergency",
        "number_inpatient",
        "diag_1",
        "diag_2",
        "diag_3",
        "number_diagnoses",
        "max_glu_serum",
        "A1Cresult",
        "metformin",
        "repaglinide",
        "nateglinide",
        "chlorpropamide",
        "glimepiride",
        "acetohexamide",
        "glipizide",
        "glyburide",
        "tolbutamide",
        "pioglitazone",
        "rosiglitazone",
        "acarbose",
        "miglitol",
        "troglitazone",
        "tolazamide",
        "examide",
        "citoglipton",
        "insulin",
        "glyburide-metformin",
        "glipizide-metformin",
        "glimepiride-pioglitazone",
        "metformin-rosiglitazone",
        "metformin-pioglitazone",
        "change",
        "diabetesMed",
        "readmitted"
       ],
       "description": "Remove certain columns: ",
       "index": [
        0
       ],
       "layout": "IPY_MODEL_522534fdb5574b6d8f5b06a5e46d7349",
       "rows": 5,
       "style": "IPY_MODEL_ce3ffa8f7e0042778b25e3b5443d5c6d"
      }
     },
     "90dc6a959eee4f67ac55322ab5207658": {
      "model_module": "@jupyter-widgets/controls",
      "model_module_version": "1.4.0",
      "model_name": "TextModel",
      "state": {
       "description": "Data File Path: ",
       "layout": "IPY_MODEL_d29d27340f96485ca721429284e3981a",
       "style": "IPY_MODEL_f3cee2744ead4cbe8bb6f05a17ec5ace",
       "value": "diabetic_data.csv"
      }
     },
     "92b013ba7a7e4558a33a0ed3df912d82": {
      "model_module": "@jupyter-widgets/base",
      "model_module_version": "1.1.0",
      "model_name": "LayoutModel",
      "state": {
       "height": "80px",
       "width": "80%"
      }
     },
     "99de12a956c24f0bacab6c845bebc0cc": {
      "model_module": "@jupyter-widgets/base",
      "model_module_version": "1.1.0",
      "model_name": "LayoutModel",
      "state": {}
     },
     "9a6413bad93e4aa38665340deb8a6379": {
      "model_module": "@jupyter-widgets/controls",
      "model_module_version": "1.4.0",
      "model_name": "BoundedIntTextModel",
      "state": {
       "description": "Number of features to show:",
       "layout": "IPY_MODEL_75ec1b3516a746119872ec8240cc88eb",
       "max": 50,
       "min": 1,
       "style": "IPY_MODEL_dc5b708121114603a1ca3f05762366e8",
       "value": 50
      }
     },
     "9aa64be82f89475aafba1cc948e1b5c7": {
      "model_module": "@jupyter-widgets/controls",
      "model_module_version": "1.4.0",
      "model_name": "ButtonStyleModel",
      "state": {}
     },
     "9acca4faadad4ba1abcb68355f684d0a": {
      "model_module": "@jupyter-widgets/controls",
      "model_module_version": "1.4.0",
      "model_name": "AccordionModel",
      "state": {
       "_titles": {
        "0": "Step 1 Pre-process",
        "1": "Step 2 Detect potential outliers"
       },
       "children": [
        "IPY_MODEL_ceab58af8c774ad5bd94edd7c096b8a3",
        "IPY_MODEL_096fb8fd86684ccb967a9211b152321d"
       ],
       "layout": "IPY_MODEL_1790bae29aea45f0818fbb6c580ed8ba"
      }
     },
     "9b7e35f056554d10b533fca19c4d010a": {
      "model_module": "@jupyter-widgets/controls",
      "model_module_version": "1.4.0",
      "model_name": "RadioButtonsModel",
      "state": {
       "_options_labels": [
        "encounter_id"
       ],
       "description": "Select your ID column:",
       "index": 0,
       "layout": "IPY_MODEL_f4777f3c607841b496fd7a129ad6af23",
       "style": "IPY_MODEL_6896a6d1349a4c81b96d8e90af9149d1"
      }
     },
     "a243643afaaa42698f81b6e7b2b40039": {
      "model_module": "@jupyter-widgets/base",
      "model_module_version": "1.1.0",
      "model_name": "LayoutModel",
      "state": {
       "align_content": "flex-start",
       "align_items": "stretch",
       "display": "center",
       "flex_flow": "column",
       "width": "80%"
      }
     },
     "a30ca22f9b9e4c4c8fa2dbaa7366c052": {
      "model_module": "@jupyter-widgets/controls",
      "model_module_version": "1.4.0",
      "model_name": "ButtonModel",
      "state": {
       "button_style": "success",
       "description": "Input data",
       "layout": "IPY_MODEL_eeafa15e90d5457c98eadc6e83729cda",
       "style": "IPY_MODEL_67c8d0407cdb48738f7754ef24270a7f"
      }
     },
     "a3d98135a882401fbe0a15d40e2d7de0": {
      "model_module": "@jupyter-widgets/controls",
      "model_module_version": "1.4.0",
      "model_name": "BoxModel",
      "state": {
       "children": [
        "IPY_MODEL_3fed0c7dd17644adb31354d8769b9afa",
        "IPY_MODEL_590006a4df8e4957861e1d9dc826c036",
        "IPY_MODEL_6e6685209d144327a1525c5c6b9ed51d",
        "IPY_MODEL_a30ca22f9b9e4c4c8fa2dbaa7366c052"
       ],
       "layout": "IPY_MODEL_8ccdc2f06f1c4fc8a99b1c5dd7bad500"
      }
     },
     "a6c1c802a89b493d89bd21f4181efec7": {
      "model_module": "@jupyter-widgets/controls",
      "model_module_version": "1.4.0",
      "model_name": "ButtonModel",
      "state": {
       "button_style": "success",
       "description": "Process",
       "layout": "IPY_MODEL_24c394cc215a43c39d23d00583c936d9",
       "style": "IPY_MODEL_c9fe06fac2ca46ea9b701cb49d70793a"
      }
     },
     "a7c369dbd8984b8d80fc6ef509fdc0b1": {
      "model_module": "@jupyter-widgets/controls",
      "model_module_version": "1.4.0",
      "model_name": "DescriptionStyleModel",
      "state": {
       "description_width": "initial"
      }
     },
     "acdc9c7bc5bf4aacb7e2021ca8aff8d4": {
      "model_module": "@jupyter-widgets/controls",
      "model_module_version": "1.4.0",
      "model_name": "BoundedIntTextModel",
      "state": {
       "description": "Neighbors:",
       "layout": "IPY_MODEL_01e2d21e298d4b129f72c76a8a603c5d",
       "min": 1,
       "style": "IPY_MODEL_5aab2d7aabf94366adb93a633da8e0ba",
       "value": 50
      }
     },
     "af4ddd0b6d9043568109185e8308b597": {
      "model_module": "@jupyter-widgets/controls",
      "model_module_version": "1.4.0",
      "model_name": "ButtonModel",
      "state": {
       "button_style": "success",
       "description": "Input data",
       "layout": "IPY_MODEL_e721f1a96ba6494a976f7e618ccedd56",
       "style": "IPY_MODEL_46ffbf14b7e24845bd80cd6595c39a49"
      }
     },
     "af699507360e484681cbd3cacadc6605": {
      "model_module": "@jupyter-widgets/base",
      "model_module_version": "1.1.0",
      "model_name": "LayoutModel",
      "state": {
       "align_content": "flex-start",
       "align_items": "stretch",
       "display": "center",
       "flex_flow": "column",
       "width": "80%"
      }
     },
     "af84836b462f4ca9a798ae13e4d0b575": {
      "model_module": "@jupyter-widgets/controls",
      "model_module_version": "1.4.0",
      "model_name": "AccordionModel",
      "state": {
       "_titles": {
        "0": "Step 0 Input data"
       },
       "children": [
        "IPY_MODEL_ec61d4845aef4e098d2d31db8bd78ca1"
       ],
       "layout": "IPY_MODEL_d492b3832d28438b97f86538106ab8a1"
      }
     },
     "b1f2824d34264cb3932f852e085fad0b": {
      "model_module": "@jupyter-widgets/controls",
      "model_module_version": "1.4.0",
      "model_name": "DescriptionStyleModel",
      "state": {
       "description_width": "initial"
      }
     },
     "b5fc56b86d674ca48cea0f7eb48e5749": {
      "model_module": "@jupyter-widgets/base",
      "model_module_version": "1.1.0",
      "model_name": "LayoutModel",
      "state": {}
     },
     "b968bbb808f34b758448801e58920b35": {
      "model_module": "@jupyter-widgets/base",
      "model_module_version": "1.1.0",
      "model_name": "LayoutModel",
      "state": {}
     },
     "ba2712e576264401937539496975184f": {
      "model_module": "@jupyter-widgets/controls",
      "model_module_version": "1.4.0",
      "model_name": "DescriptionStyleModel",
      "state": {
       "description_width": "initial"
      }
     },
     "bd2987d7c8c8400eae187adb554bea65": {
      "model_module": "@jupyter-widgets/controls",
      "model_module_version": "1.4.0",
      "model_name": "BoxModel",
      "state": {
       "children": [
        "IPY_MODEL_57a6d981d7624b7f9af29de6f50cd592",
        "IPY_MODEL_f5d09b6afd3b42589298e040cdf5bace",
        "IPY_MODEL_247b3d7947c842489d7a00e458a2f6ba",
        "IPY_MODEL_2831802bbdad441da9b52d8c08247b3f",
        "IPY_MODEL_5f7a76cb42fa43e887c7253569fade63"
       ],
       "layout": "IPY_MODEL_500f9aaaaf0d4a2cba451ff5aed68aca"
      }
     },
     "bde2eec953594571bb8491ca2ff9bf8c": {
      "model_module": "@jupyter-widgets/controls",
      "model_module_version": "1.4.0",
      "model_name": "ButtonStyleModel",
      "state": {}
     },
     "bfeaba4cc919429db12afd652f7fb302": {
      "model_module": "@jupyter-widgets/controls",
      "model_module_version": "1.4.0",
      "model_name": "ButtonModel",
      "state": {
       "button_style": "success",
       "description": "Input data",
       "layout": "IPY_MODEL_7f3bfaf2c522496d85f9f7021aa87e63",
       "style": "IPY_MODEL_9aa64be82f89475aafba1cc948e1b5c7"
      }
     },
     "c04bb55794fc4d6b990c98cd7ebcb425": {
      "model_module": "@jupyter-widgets/controls",
      "model_module_version": "1.4.0",
      "model_name": "AccordionModel",
      "state": {
       "_titles": {
        "0": "Step 3 Detect potential (quasi-)identifiable features",
        "1": "Step 4 Anonymize (generalize) (quasi-)identifiable features"
       },
       "children": [
        "IPY_MODEL_f50d3d0d96d24c23a10652e3b2724ba1",
        "IPY_MODEL_75ec9055f1df49a493c6bd0f8c5027f0"
       ],
       "layout": "IPY_MODEL_82c28c37c6294a59ad58b31d00b4bbe5",
       "selected_index": 1
      }
     },
     "c100931f3f1041af8b181f2be0a57e21": {
      "model_module": "@jupyter-widgets/controls",
      "model_module_version": "1.4.0",
      "model_name": "AccordionModel",
      "state": {
       "_titles": {
        "0": "Step 0 Input data"
       },
       "children": [
        "IPY_MODEL_7825058f034240a3852655d100f62955"
       ],
       "layout": "IPY_MODEL_6ce3f864f529454b8d67ec41b0c42742"
      }
     },
     "c12ccbbcafbe42d386bb0d8ea4bd4a59": {
      "model_module": "@jupyter-widgets/base",
      "model_module_version": "1.1.0",
      "model_name": "LayoutModel",
      "state": {
       "align_content": "flex-start",
       "align_items": "stretch",
       "display": "center",
       "flex_flow": "column",
       "width": "80%"
      }
     },
     "c4a08b98bd7444b1a4578502be8d1fbb": {
      "model_module": "@jupyter-widgets/controls",
      "model_module_version": "1.4.0",
      "model_name": "CheckboxModel",
      "state": {
       "description": "Check the missing values",
       "disabled": false,
       "layout": "IPY_MODEL_d29d27340f96485ca721429284e3981a",
       "style": "IPY_MODEL_6a5659faedc946c78ec52920539b80d3",
       "value": false
      }
     },
     "c4eb2f57a85946038894138b8c681e01": {
      "model_module": "@jupyter-widgets/controls",
      "model_module_version": "1.4.0",
      "model_name": "DescriptionStyleModel",
      "state": {
       "description_width": "initial"
      }
     },
     "c5070e622bf6463b8b377cee260d4dd2": {
      "model_module": "@jupyter-widgets/controls",
      "model_module_version": "1.4.0",
      "model_name": "DescriptionStyleModel",
      "state": {
       "description_width": "initial"
      }
     },
     "c904a510e3364406b12b0af7b6c26309": {
      "model_module": "@jupyter-widgets/controls",
      "model_module_version": "1.4.0",
      "model_name": "DescriptionStyleModel",
      "state": {
       "description_width": "initial"
      }
     },
     "c955abaa148c49dba6fcd9c2068e1290": {
      "model_module": "@jupyter-widgets/controls",
      "model_module_version": "1.4.0",
      "model_name": "SelectMultipleModel",
      "state": {
       "_options_labels": [
        "No columns to remove",
        "encounter_id",
        "patient_nbr",
        "race",
        "gender",
        "age",
        "weight",
        "admission_type_id",
        "discharge_disposition_id",
        "admission_source_id",
        "time_in_hospital",
        "payer_code",
        "medical_specialty",
        "num_lab_procedures",
        "num_procedures",
        "num_medications",
        "number_outpatient",
        "number_emergency",
        "number_inpatient",
        "diag_1",
        "diag_2",
        "diag_3",
        "number_diagnoses",
        "max_glu_serum",
        "A1Cresult",
        "metformin",
        "repaglinide",
        "nateglinide",
        "chlorpropamide",
        "glimepiride",
        "acetohexamide",
        "glipizide",
        "glyburide",
        "tolbutamide",
        "pioglitazone",
        "rosiglitazone",
        "acarbose",
        "miglitol",
        "troglitazone",
        "tolazamide",
        "examide",
        "citoglipton",
        "insulin",
        "glyburide-metformin",
        "glipizide-metformin",
        "glimepiride-pioglitazone",
        "metformin-rosiglitazone",
        "metformin-pioglitazone",
        "change",
        "diabetesMed",
        "readmitted"
       ],
       "description": "Remove certain columns: ",
       "index": [
        0
       ],
       "layout": "IPY_MODEL_cb1c0b6708a445afab6db77f8f76e3be",
       "rows": 5,
       "style": "IPY_MODEL_2833279c32ed47e9a52b5d25e716c25c"
      }
     },
     "c9fe06fac2ca46ea9b701cb49d70793a": {
      "model_module": "@jupyter-widgets/controls",
      "model_module_version": "1.4.0",
      "model_name": "ButtonStyleModel",
      "state": {}
     },
     "cb1c0b6708a445afab6db77f8f76e3be": {
      "model_module": "@jupyter-widgets/base",
      "model_module_version": "1.1.0",
      "model_name": "LayoutModel",
      "state": {
       "height": "150px",
       "width": "50%"
      }
     },
     "ce3ffa8f7e0042778b25e3b5443d5c6d": {
      "model_module": "@jupyter-widgets/controls",
      "model_module_version": "1.4.0",
      "model_name": "DescriptionStyleModel",
      "state": {
       "description_width": "initial"
      }
     },
     "ceab58af8c774ad5bd94edd7c096b8a3": {
      "model_module": "@jupyter-widgets/controls",
      "model_module_version": "1.4.0",
      "model_name": "BoxModel",
      "state": {
       "children": [
        "IPY_MODEL_d0190ba58a87431b8b0bdf719f2797a7",
        "IPY_MODEL_c955abaa148c49dba6fcd9c2068e1290"
       ],
       "layout": "IPY_MODEL_2b255c1a854e4f689ba176afc0757a21"
      }
     },
     "d0190ba58a87431b8b0bdf719f2797a7": {
      "model_module": "@jupyter-widgets/controls",
      "model_module_version": "1.4.0",
      "model_name": "TextModel",
      "state": {
       "description": "Fill missing value with certain character/num: ",
       "layout": "IPY_MODEL_01e2d21e298d4b129f72c76a8a603c5d",
       "style": "IPY_MODEL_ddcebf48de8a4bcdabd53f0b35f9b2e0",
       "value": "?"
      }
     },
     "d128169be89449199db355fa39278fbe": {
      "model_module": "@jupyter-widgets/controls",
      "model_module_version": "1.4.0",
      "model_name": "ButtonStyleModel",
      "state": {}
     },
     "d25e8315fcf94187a3a26cf70da34e61": {
      "model_module": "@jupyter-widgets/controls",
      "model_module_version": "1.4.0",
      "model_name": "TextModel",
      "state": {
       "description": "Any special characters to present missing values: ",
       "layout": "IPY_MODEL_75ec1b3516a746119872ec8240cc88eb",
       "style": "IPY_MODEL_c5070e622bf6463b8b377cee260d4dd2",
       "value": "?"
      }
     },
     "d29d27340f96485ca721429284e3981a": {
      "model_module": "@jupyter-widgets/base",
      "model_module_version": "1.1.0",
      "model_name": "LayoutModel",
      "state": {
       "height": "30px",
       "width": "50%"
      }
     },
     "d492b3832d28438b97f86538106ab8a1": {
      "model_module": "@jupyter-widgets/base",
      "model_module_version": "1.1.0",
      "model_name": "LayoutModel",
      "state": {}
     },
     "d6cf6d7a8a614a7eb1e9524583108a40": {
      "model_module": "@jupyter-widgets/base",
      "model_module_version": "1.1.0",
      "model_name": "LayoutModel",
      "state": {
       "height": "60px",
       "width": "80%"
      }
     },
     "d7fbe74fdd3a4bbcbd0e026df5dc0e67": {
      "model_module": "@jupyter-widgets/controls",
      "model_module_version": "1.4.0",
      "model_name": "BoxModel",
      "state": {
       "children": [
        "IPY_MODEL_68bfe34ff0cd443593495cb497c826a8",
        "IPY_MODEL_d25e8315fcf94187a3a26cf70da34e61",
        "IPY_MODEL_fac0e69dfd50412e96780342681ce45b",
        "IPY_MODEL_bfeaba4cc919429db12afd652f7fb302"
       ],
       "layout": "IPY_MODEL_500f9aaaaf0d4a2cba451ff5aed68aca"
      }
     },
     "dacefc1b801d4be0833c1bb270cab23b": {
      "model_module": "@jupyter-widgets/controls",
      "model_module_version": "1.4.0",
      "model_name": "TextModel",
      "state": {
       "description": "Fill missing value with certain character/num: ",
       "layout": "IPY_MODEL_75ec1b3516a746119872ec8240cc88eb",
       "style": "IPY_MODEL_f02e6cb117af4db3a7358e9c8a5f239b",
       "value": "?"
      }
     },
     "dc437f3583e244b9b101eb06edc75da3": {
      "model_module": "@jupyter-widgets/controls",
      "model_module_version": "1.4.0",
      "model_name": "DescriptionStyleModel",
      "state": {
       "description_width": "initial"
      }
     },
     "dc5b708121114603a1ca3f05762366e8": {
      "model_module": "@jupyter-widgets/controls",
      "model_module_version": "1.4.0",
      "model_name": "DescriptionStyleModel",
      "state": {
       "description_width": "initial"
      }
     },
     "dd669d8b5ab542488647be39bd2d563f": {
      "model_module": "@jupyter-widgets/controls",
      "model_module_version": "1.4.0",
      "model_name": "AccordionModel",
      "state": {
       "_titles": {
        "0": "Step 1 Pre-process",
        "1": "Step 2 Detect potential outliers"
       },
       "children": [
        "IPY_MODEL_04ccccd621d44d2d844c182b6a939657",
        "IPY_MODEL_bd2987d7c8c8400eae187adb554bea65"
       ],
       "layout": "IPY_MODEL_751c82692b784d40a4cd99af4a9070dd"
      }
     },
     "ddaae1118d444e2ebc48b975dce44326": {
      "model_module": "@jupyter-widgets/base",
      "model_module_version": "1.1.0",
      "model_name": "LayoutModel",
      "state": {}
     },
     "ddcebf48de8a4bcdabd53f0b35f9b2e0": {
      "model_module": "@jupyter-widgets/controls",
      "model_module_version": "1.4.0",
      "model_name": "DescriptionStyleModel",
      "state": {
       "description_width": "initial"
      }
     },
     "ddfa39a24876469381ac4d5a153b4dc5": {
      "model_module": "@jupyter-widgets/controls",
      "model_module_version": "1.4.0",
      "model_name": "SelectMultipleModel",
      "state": {
       "_options_labels": [
        "encounter_id",
        "patient_nbr",
        "race",
        "gender",
        "age",
        "weight",
        "admission_type_id",
        "discharge_disposition_id",
        "admission_source_id",
        "time_in_hospital",
        "payer_code",
        "medical_specialty",
        "num_lab_procedures",
        "num_procedures",
        "num_medications",
        "number_outpatient",
        "number_emergency",
        "number_inpatient",
        "diag_1",
        "diag_2",
        "diag_3",
        "number_diagnoses",
        "max_glu_serum",
        "A1Cresult",
        "metformin",
        "repaglinide",
        "nateglinide",
        "chlorpropamide",
        "glimepiride",
        "acetohexamide",
        "glipizide",
        "glyburide",
        "tolbutamide",
        "pioglitazone",
        "rosiglitazone",
        "acarbose",
        "miglitol",
        "troglitazone",
        "tolazamide",
        "examide",
        "citoglipton",
        "insulin",
        "glyburide-metformin",
        "glipizide-metformin",
        "glimepiride-pioglitazone",
        "metformin-rosiglitazone",
        "metformin-pioglitazone",
        "change",
        "diabetesMed",
        "readmitted"
       ],
       "description": "Select ID/data index column: ",
       "index": [
        0
       ],
       "layout": "IPY_MODEL_7cb68af6c7bf41698f65f3151292c664",
       "rows": 5,
       "style": "IPY_MODEL_190f5623a2c347cea50fcde9502ebde2"
      }
     },
     "e16eb7391c32466db94afdadd41cc1e5": {
      "model_module": "@jupyter-widgets/controls",
      "model_module_version": "1.4.0",
      "model_name": "DescriptionStyleModel",
      "state": {
       "description_width": "initial"
      }
     },
     "e2616c43703a4c10bb56f0960644d0e7": {
      "model_module": "@jupyter-widgets/controls",
      "model_module_version": "1.4.0",
      "model_name": "DescriptionStyleModel",
      "state": {
       "description_width": "initial"
      }
     },
     "e721f1a96ba6494a976f7e618ccedd56": {
      "model_module": "@jupyter-widgets/base",
      "model_module_version": "1.1.0",
      "model_name": "LayoutModel",
      "state": {}
     },
     "ebdcb1a7d93b488baa339439c2a01e8d": {
      "model_module": "@jupyter-widgets/base",
      "model_module_version": "1.1.0",
      "model_name": "LayoutModel",
      "state": {}
     },
     "ec036bfca19b4f48b46a815924056c17": {
      "model_module": "@jupyter-widgets/base",
      "model_module_version": "1.1.0",
      "model_name": "LayoutModel",
      "state": {
       "height": "150px",
       "width": "50%"
      }
     },
     "ec61d4845aef4e098d2d31db8bd78ca1": {
      "model_module": "@jupyter-widgets/controls",
      "model_module_version": "1.4.0",
      "model_name": "BoxModel",
      "state": {
       "children": [
        "IPY_MODEL_3fed0c7dd17644adb31354d8769b9afa",
        "IPY_MODEL_590006a4df8e4957861e1d9dc826c036",
        "IPY_MODEL_6e6685209d144327a1525c5c6b9ed51d",
        "IPY_MODEL_a30ca22f9b9e4c4c8fa2dbaa7366c052"
       ],
       "layout": "IPY_MODEL_c12ccbbcafbe42d386bb0d8ea4bd4a59"
      }
     },
     "eeafa15e90d5457c98eadc6e83729cda": {
      "model_module": "@jupyter-widgets/base",
      "model_module_version": "1.1.0",
      "model_name": "LayoutModel",
      "state": {}
     },
     "f02e6cb117af4db3a7358e9c8a5f239b": {
      "model_module": "@jupyter-widgets/controls",
      "model_module_version": "1.4.0",
      "model_name": "DescriptionStyleModel",
      "state": {
       "description_width": "initial"
      }
     },
     "f3cee2744ead4cbe8bb6f05a17ec5ace": {
      "model_module": "@jupyter-widgets/controls",
      "model_module_version": "1.4.0",
      "model_name": "DescriptionStyleModel",
      "state": {
       "description_width": "initial"
      }
     },
     "f4777f3c607841b496fd7a129ad6af23": {
      "model_module": "@jupyter-widgets/base",
      "model_module_version": "1.1.0",
      "model_name": "LayoutModel",
      "state": {
       "height": "60px",
       "width": "80%"
      }
     },
     "f50d3d0d96d24c23a10652e3b2724ba1": {
      "model_module": "@jupyter-widgets/controls",
      "model_module_version": "1.4.0",
      "model_name": "BoxModel",
      "state": {
       "children": [
        "IPY_MODEL_71f99195f1c84c14a4cc69aa9ad98268",
        "IPY_MODEL_9b7e35f056554d10b533fca19c4d010a",
        "IPY_MODEL_9a6413bad93e4aa38665340deb8a6379",
        "IPY_MODEL_3d8df9bbe21248ee8b7c2df1200f2474"
       ],
       "layout": "IPY_MODEL_500f9aaaaf0d4a2cba451ff5aed68aca"
      }
     },
     "f5d09b6afd3b42589298e040cdf5bace": {
      "model_module": "@jupyter-widgets/controls",
      "model_module_version": "1.4.0",
      "model_name": "BoundedIntTextModel",
      "state": {
       "description": "Neighbors:",
       "layout": "IPY_MODEL_75ec1b3516a746119872ec8240cc88eb",
       "min": 1,
       "style": "IPY_MODEL_3e8b972467234a2686bcf2796c055621",
       "value": 50
      }
     },
     "f6aec394d51b40d4a5753a22e38f0759": {
      "model_module": "@jupyter-widgets/base",
      "model_module_version": "1.1.0",
      "model_name": "LayoutModel",
      "state": {
       "height": "150px",
       "width": "50%"
      }
     },
     "fac0e69dfd50412e96780342681ce45b": {
      "model_module": "@jupyter-widgets/controls",
      "model_module_version": "1.4.0",
      "model_name": "CheckboxModel",
      "state": {
       "description": "Check the missing values",
       "disabled": false,
       "layout": "IPY_MODEL_75ec1b3516a746119872ec8240cc88eb",
       "style": "IPY_MODEL_dc437f3583e244b9b101eb06edc75da3",
       "value": true
      }
     },
     "fae8a69ccd3741039439427962a724db": {
      "model_module": "@jupyter-widgets/controls",
      "model_module_version": "1.4.0",
      "model_name": "DescriptionStyleModel",
      "state": {
       "description_width": "initial"
      }
     },
     "fe0792bc9699402daf56b2105a48a8ce": {
      "model_module": "@jupyter-widgets/controls",
      "model_module_version": "1.4.0",
      "model_name": "AccordionModel",
      "state": {
       "_titles": {
        "0": "Step 0 Input data"
       },
       "children": [
        "IPY_MODEL_788d894449a647e7aa7740cd6930d38d"
       ],
       "layout": "IPY_MODEL_18a766204b824233968ec7d6638aa736"
      }
     }
    },
    "version_major": 2,
    "version_minor": 0
   }
  }
 },
 "nbformat": 4,
 "nbformat_minor": 2
}
